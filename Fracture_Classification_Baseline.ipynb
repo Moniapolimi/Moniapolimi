{
  "cells": [
    {
      "cell_type": "markdown",
      "metadata": {
        "id": "view-in-github",
        "colab_type": "text"
      },
      "source": [
        "<a href=\"https://colab.research.google.com/github/Moniapolimi/Moniapolimi/blob/main/Fracture_Classification_Baseline.ipynb\" target=\"_parent\"><img src=\"https://colab.research.google.com/assets/colab-badge.svg\" alt=\"Open In Colab\"/></a>"
      ]
    },
    {
      "cell_type": "markdown",
      "metadata": {
        "id": "6qroRPzfQYWw"
      },
      "source": [
        "# **Musculoskeletal Radiographs Abnormality Detection**\n",
        "\n",
        "# **Exploratory Data Analysis**"
      ]
    },
    {
      "cell_type": "markdown",
      "metadata": {
        "id": "ZQmC-3G65WuT"
      },
      "source": [
        "### **Problem**\n",
        "\n",
        "Determining whether a radiographic study is normal or abnormal is a critical radiological task: a study interpreted as normal rules out disease and can eliminate the need for patients to undergo further diagnostic procedures or interventions. The musculoskeletal abnormality detection task is particularly critical as more than 1.7 billion people are affected by musculoskeletal conditions worldwide (BMU, 2017). These conditions are the most common cause of severe, long-term pain and disability (Woolf & Pfleger, 2003), with 30 million emergency department visits annually and increasing. Our dataset, MURA, contains 9,045 normal and 5,818 abnormal musculoskeletal radio\u0002graphic studies of the upper extremity including the shoulder, humerus, elbow, forearm, wrist, hand, and finger. MURA is one of the largest public radiographic image datasets. More information about the  the dataset can be found [here](http://stanfordmlgroup.github.io/competitions/mura/)  as well as [in this paper](http://https://arxiv.org/pdf/1712.06957.pdf)"
      ]
    },
    {
      "cell_type": "markdown",
      "metadata": {
        "id": "zNlRUaje5WuT"
      },
      "source": [
        "# Libraries"
      ]
    },
    {
      "cell_type": "code",
      "execution_count": null,
      "metadata": {
        "colab": {
          "base_uri": "https://localhost:8080/"
        },
        "id": "hkRdqSB5QYW8",
        "outputId": "7b290252-d4f8-44d0-e774-c3cfe1081526"
      },
      "outputs": [
        {
          "output_type": "stream",
          "name": "stdout",
          "text": [
            "Collecting keras-adabound\n",
            "  Downloading keras-adabound-0.6.0.tar.gz (5.5 kB)\n",
            "  Preparing metadata (setup.py): started\n",
            "  Preparing metadata (setup.py): finished with status 'done'\n",
            "Requirement already satisfied: numpy in /usr/local/lib/python3.10/dist-packages (from keras-adabound) (1.25.2)\n",
            "Requirement already satisfied: Keras in /usr/local/lib/python3.10/dist-packages (from keras-adabound) (2.15.0)\n",
            "Collecting typeguard (from keras-adabound)\n",
            "  Downloading typeguard-4.2.1-py3-none-any.whl (34 kB)\n",
            "Requirement already satisfied: typing-extensions>=4.10.0 in /usr/local/lib/python3.10/dist-packages (from typeguard->keras-adabound) (4.11.0)\n",
            "Building wheels for collected packages: keras-adabound\n",
            "  Building wheel for keras-adabound (setup.py): started\n",
            "  Building wheel for keras-adabound (setup.py): finished with status 'done'\n",
            "  Created wheel for keras-adabound: filename=keras_adabound-0.6.0-py3-none-any.whl size=6589 sha256=df87383f90c86e30ac02f716822f2c220bee69b7ddb69e925e29baaffa511c53\n",
            "  Stored in directory: /root/.cache/pip/wheels/c7/0c/82/026bbf0810e0ac6d6b6686fef3891d052534ecb440a0c28c19\n",
            "Successfully built keras-adabound\n",
            "Installing collected packages: typeguard, keras-adabound\n",
            "Successfully installed keras-adabound-0.6.0 typeguard-4.2.1\n",
            "Collecting tensorflow_addons\n",
            "  Downloading tensorflow_addons-0.23.0-cp310-cp310-manylinux_2_17_x86_64.manylinux2014_x86_64.whl (611 kB)\n",
            "     ━━━━━━━━━━━━━━━━━━━━━━━━━━━━━━━━━━━━━━━━ 611.8/611.8 kB 3.4 MB/s eta 0:00:00\n",
            "Requirement already satisfied: packaging in /usr/local/lib/python3.10/dist-packages (from tensorflow_addons) (24.0)\n",
            "Collecting typeguard<3.0.0,>=2.7 (from tensorflow_addons)\n",
            "  Downloading typeguard-2.13.3-py3-none-any.whl (17 kB)\n",
            "Installing collected packages: typeguard, tensorflow_addons\n",
            "  Attempting uninstall: typeguard\n",
            "    Found existing installation: typeguard 4.2.1\n",
            "    Uninstalling typeguard-4.2.1:\n",
            "      Successfully uninstalled typeguard-4.2.1\n",
            "Successfully installed tensorflow_addons-0.23.0 typeguard-2.13.3\n"
          ]
        }
      ],
      "source": [
        "%%bash\n",
        "pip install keras-adabound\n",
        "pip install tensorflow_addons"
      ]
    },
    {
      "cell_type": "code",
      "execution_count": null,
      "metadata": {
        "colab": {
          "base_uri": "https://localhost:8080/"
        },
        "id": "jyKQVq378w3i",
        "outputId": "aeec07e1-8bf5-40c8-e372-7718e24a4d75"
      },
      "outputs": [
        {
          "output_type": "stream",
          "name": "stdout",
          "text": [
            "Collecting keras_preprocessing\n",
            "  Downloading Keras_Preprocessing-1.1.2-py2.py3-none-any.whl (42 kB)\n",
            "\u001b[2K     \u001b[90m━━━━━━━━━━━━━━━━━━━━━━━━━━━━━━━━━━━━━━━━\u001b[0m \u001b[32m42.6/42.6 kB\u001b[0m \u001b[31m703.4 kB/s\u001b[0m eta \u001b[36m0:00:00\u001b[0m\n",
            "\u001b[?25hRequirement already satisfied: numpy>=1.9.1 in /usr/local/lib/python3.10/dist-packages (from keras_preprocessing) (1.25.2)\n",
            "Requirement already satisfied: six>=1.9.0 in /usr/local/lib/python3.10/dist-packages (from keras_preprocessing) (1.16.0)\n",
            "Installing collected packages: keras_preprocessing\n",
            "Successfully installed keras_preprocessing-1.1.2\n"
          ]
        }
      ],
      "source": [
        "!pip install keras_preprocessing"
      ]
    },
    {
      "cell_type": "code",
      "execution_count": null,
      "metadata": {
        "colab": {
          "base_uri": "https://localhost:8080/"
        },
        "id": "qSqHhOpTQYW9",
        "outputId": "84cb2717-8245-470e-d549-84dec03e8615"
      },
      "outputs": [
        {
          "output_type": "stream",
          "name": "stderr",
          "text": [
            "/usr/local/lib/python3.10/dist-packages/tensorflow_addons/utils/tfa_eol_msg.py:23: UserWarning: \n",
            "\n",
            "TensorFlow Addons (TFA) has ended development and introduction of new features.\n",
            "TFA has entered a minimal maintenance and release mode until a planned end of life in May 2024.\n",
            "Please modify downstream libraries to take dependencies from other repositories in our TensorFlow community (e.g. Keras, Keras-CV, and Keras-NLP). \n",
            "\n",
            "For more information see: https://github.com/tensorflow/addons/issues/2807 \n",
            "\n",
            "  warnings.warn(\n"
          ]
        }
      ],
      "source": [
        "import os\n",
        "import random\n",
        "from tqdm import tqdm\n",
        "import numpy as np\n",
        "import pandas as pd\n",
        "import matplotlib.pyplot as plt\n",
        "import tensorflow as tf\n",
        "from enum import Enum\n",
        "import cv2\n",
        "from tensorflow.keras import backend as K # Importing Keras backend (by default it is Tensorflow)\n",
        "import gc\n",
        "from tensorflow.keras.utils import to_categorical\n",
        "from keras_preprocessing.image import ImageDataGenerator\n",
        "from sklearn.model_selection import train_test_split\n",
        "from tensorflow.keras.optimizers import SGD, Adam\n",
        "from keras_adabound import AdaBound\n",
        "from tensorflow.keras.losses import BinaryCrossentropy\n",
        "from tensorflow.keras.layers import Input, Conv2D,BatchNormalization\n",
        "from tensorflow.keras.layers import Activation,SpatialDropout2D,AvgPool2D\n",
        "from tensorflow.keras.layers import MaxPool2D,Dropout,GlobalAveragePooling2D\n",
        "from tensorflow.keras.layers import GlobalMaxPooling2D,Flatten,Dropout,Dense\n",
        "from tensorflow.keras.models import Model\n",
        "from tensorflow.keras.callbacks import EarlyStopping\n",
        "from tensorflow.keras import Sequential\n",
        "from tensorflow_addons.metrics import CohenKappa\n",
        "from tensorflow.keras.metrics import AUC, BinaryAccuracy\n",
        "from sklearn.metrics import cohen_kappa_score, accuracy_score\n",
        "from tensorflow.keras.applications import ResNet152V2\n",
        "from tensorflow.keras.applications import DenseNet121,DenseNet169,DenseNet201\n",
        "from tensorflow.keras.models import load_model\n",
        "from numpy import dstack\n",
        "from sklearn.linear_model import LogisticRegression\n",
        "from sklearn.ensemble import VotingClassifier\n",
        "from tensorflow.keras.applications.vgg16 import VGG16\n",
        "from tensorflow.keras.applications.vgg19 import VGG19\n",
        "from tensorflow.keras.applications.resnet50 import ResNet50"
      ]
    },
    {
      "cell_type": "code",
      "source": [
        "from google.colab import drive\n",
        "drive.mount('/content/drive')"
      ],
      "metadata": {
        "colab": {
          "base_uri": "https://localhost:8080/"
        },
        "id": "O1YtyRbJ3oYD",
        "outputId": "c845b11a-bfd1-4ba2-c516-07e5bd7fa9ec"
      },
      "execution_count": null,
      "outputs": [
        {
          "output_type": "stream",
          "name": "stdout",
          "text": [
            "Mounted at /content/drive\n"
          ]
        }
      ]
    },
    {
      "cell_type": "code",
      "execution_count": null,
      "metadata": {
        "id": "0fNti49tQYW-"
      },
      "outputs": [],
      "source": [
        "# define seed number to have reproducible experiments.\n",
        "seed = 3352024\n",
        "os.environ['PYTHONHASHSEED'] = str(seed)\n",
        "random.seed(seed)\n",
        "tf.random.set_seed(seed)\n",
        "np.random.seed(seed)"
      ]
    },
    {
      "cell_type": "markdown",
      "metadata": {
        "id": "5f8JZcgGQYW-"
      },
      "source": [
        "# Load data"
      ]
    },
    {
      "cell_type": "markdown",
      "metadata": {
        "id": "uXpB1d33QYW-"
      },
      "source": [
        "This data comes as split dataset (training & validation in separate directories). Each data categories such as training & validation has sub-directories (pls see below).\n"
      ]
    },
    {
      "cell_type": "markdown",
      "metadata": {
        "id": "v7tc8hpLQYW-"
      },
      "source": [
        "```\n",
        "\n",
        "└─train {data category}\n",
        "│   └───XR_ELBOW {study type}\n",
        "│       │  └───patient00011 {patient}\n",
        "│       │         └───study1_negative {study with label}\n",
        "│       │               └───image1.png {radiographs}\n",
        "│       │               └───image2.png\n",
        "│       │               └───image3.png\n",
        "                        └───...\n",
        "   ...\n",
        "   \n",
        "\n",
        "└─valid {data category}\n",
        "│   └───XR_HUMERUS {study type}\n",
        "│       │  └───patient11216 {patient}\n",
        "│       │         └───study1_negative {study with label}\n",
        "│       │               └───image1.png {radiographs}\n",
        "│       │               └───image2.png\n",
        "                        └───...\n",
        "```"
      ]
    },
    {
      "cell_type": "markdown",
      "metadata": {
        "id": "dLkjBxzH5WuV"
      },
      "source": [
        "### Helper Function for loading dataset"
      ]
    },
    {
      "cell_type": "code",
      "execution_count": null,
      "metadata": {
        "id": "usQBhonYQYW_"
      },
      "outputs": [],
      "source": [
        "def load_path(path):\n",
        "\n",
        "    '''\n",
        "    load MURA dataset\n",
        "    '''\n",
        "    dataset = []\n",
        "    for body in os.listdir(path):\n",
        "        body_part = body\n",
        "        path_p = path+'/'+str(body)\n",
        "        for id_p in os.listdir(path_p):\n",
        "            patient_id = id_p\n",
        "            path_id = path_p+'/'+str(id_p)\n",
        "            for lab in os.listdir(path_id):\n",
        "                if lab.split('_')[-1]=='positive':\n",
        "                    label = 1\n",
        "                elif lab.split('_')[-1]=='negative':\n",
        "                    label= 0\n",
        "                path_l = path_id+'/'+str(lab)\n",
        "                for img in os.listdir(path_l):\n",
        "                    img_path = path_l + '/' + str(img)\n",
        "                    dataset.append(\n",
        "                        {\n",
        "                            'body_part': body_part,\n",
        "                            'patient_id': patient_id,\n",
        "                            'label': label,\n",
        "                            'img_path': img_path\n",
        "                        }\n",
        "                    )\n",
        "    return dataset"
      ]
    },
    {
      "cell_type": "code",
      "execution_count": null,
      "metadata": {
        "colab": {
          "base_uri": "https://localhost:8080/"
        },
        "id": "n8S0KYUAQYXA",
        "outputId": "a269f550-9a2a-402f-9ae2-7b37d2caef2c"
      },
      "outputs": [
        {
          "output_type": "execute_result",
          "data": {
            "text/plain": [
              "['XR_WRIST',\n",
              " 'XR_FOREARM',\n",
              " 'XR_FINGER',\n",
              " 'XR_HUMERUS',\n",
              " 'XR_ELBOW',\n",
              " 'XR_SHOULDER',\n",
              " 'XR_HAND']"
            ]
          },
          "metadata": {},
          "execution_count": 8
        }
      ],
      "source": [
        "path = '/content/drive/MyDrive/SmartHospital_PrecisionMedicine/Challenge_2024/MURA-v1.1/train'   # change this path with your location after mounted your drive\n",
        "os.listdir(path)"
      ]
    },
    {
      "cell_type": "markdown",
      "metadata": {
        "id": "lf70oFo2QYXA"
      },
      "source": [
        "**Train set**"
      ]
    },
    {
      "cell_type": "code",
      "execution_count": null,
      "metadata": {
        "id": "a8ao-JO7QYXA"
      },
      "outputs": [],
      "source": [
        "dataset = load_path(path)\n",
        "df_train = pd.DataFrame(dataset)\n",
        "df_train.head()"
      ]
    },
    {
      "cell_type": "code",
      "execution_count": null,
      "metadata": {
        "colab": {
          "base_uri": "https://localhost:8080/",
          "height": 206
        },
        "id": "dtHzEg62QYXB",
        "outputId": "ba807908-69be-4324-b5b1-c345c146893d"
      },
      "outputs": [
        {
          "data": {
            "application/vnd.google.colaboratory.intrinsic+json": {
              "summary": "{\n  \"name\": \"df_test\",\n  \"rows\": 3197,\n  \"fields\": [\n    {\n      \"column\": \"body_part\",\n      \"properties\": {\n        \"dtype\": \"category\",\n        \"num_unique_values\": 7,\n        \"samples\": [\n          \"XR_HUMERUS\",\n          \"XR_WRIST\",\n          \"XR_FINGER\"\n        ],\n        \"semantic_type\": \"\",\n        \"description\": \"\"\n      }\n    },\n    {\n      \"column\": \"patient_id\",\n      \"properties\": {\n        \"dtype\": \"category\",\n        \"num_unique_values\": 783,\n        \"samples\": [\n          \"patient11808\",\n          \"patient11841\",\n          \"patient11290\"\n        ],\n        \"semantic_type\": \"\",\n        \"description\": \"\"\n      }\n    },\n    {\n      \"column\": \"label\",\n      \"properties\": {\n        \"dtype\": \"number\",\n        \"std\": 0,\n        \"min\": 0,\n        \"max\": 1,\n        \"num_unique_values\": 2,\n        \"samples\": [\n          0,\n          1\n        ],\n        \"semantic_type\": \"\",\n        \"description\": \"\"\n      }\n    },\n    {\n      \"column\": \"img_path\",\n      \"properties\": {\n        \"dtype\": \"string\",\n        \"num_unique_values\": 3197,\n        \"samples\": [\n          \"../input/mura-v11/MURA-v1.1/valid/XR_ELBOW/patient11563/study1_negative/image1.png\",\n          \"../input/mura-v11/MURA-v1.1/valid/XR_FOREARM/patient11472/study1_negative/image2.png\"\n        ],\n        \"semantic_type\": \"\",\n        \"description\": \"\"\n      }\n    }\n  ]\n}",
              "type": "dataframe",
              "variable_name": "df_test"
            },
            "text/html": [
              "\n",
              "  <div id=\"df-6c4f4141-c8d9-4690-a287-de307cbeb752\" class=\"colab-df-container\">\n",
              "    <div>\n",
              "<style scoped>\n",
              "    .dataframe tbody tr th:only-of-type {\n",
              "        vertical-align: middle;\n",
              "    }\n",
              "\n",
              "    .dataframe tbody tr th {\n",
              "        vertical-align: top;\n",
              "    }\n",
              "\n",
              "    .dataframe thead th {\n",
              "        text-align: right;\n",
              "    }\n",
              "</style>\n",
              "<table border=\"1\" class=\"dataframe\">\n",
              "  <thead>\n",
              "    <tr style=\"text-align: right;\">\n",
              "      <th></th>\n",
              "      <th>body_part</th>\n",
              "      <th>patient_id</th>\n",
              "      <th>label</th>\n",
              "      <th>img_path</th>\n",
              "    </tr>\n",
              "  </thead>\n",
              "  <tbody>\n",
              "    <tr>\n",
              "      <th>0</th>\n",
              "      <td>XR_HUMERUS</td>\n",
              "      <td>patient11214</td>\n",
              "      <td>1</td>\n",
              "      <td>../input/mura-v11/MURA-v1.1/valid/XR_HUMERUS/p...</td>\n",
              "    </tr>\n",
              "    <tr>\n",
              "      <th>1</th>\n",
              "      <td>XR_HUMERUS</td>\n",
              "      <td>patient11214</td>\n",
              "      <td>1</td>\n",
              "      <td>../input/mura-v11/MURA-v1.1/valid/XR_HUMERUS/p...</td>\n",
              "    </tr>\n",
              "    <tr>\n",
              "      <th>2</th>\n",
              "      <td>XR_HUMERUS</td>\n",
              "      <td>patient11690</td>\n",
              "      <td>0</td>\n",
              "      <td>../input/mura-v11/MURA-v1.1/valid/XR_HUMERUS/p...</td>\n",
              "    </tr>\n",
              "    <tr>\n",
              "      <th>3</th>\n",
              "      <td>XR_HUMERUS</td>\n",
              "      <td>patient11690</td>\n",
              "      <td>0</td>\n",
              "      <td>../input/mura-v11/MURA-v1.1/valid/XR_HUMERUS/p...</td>\n",
              "    </tr>\n",
              "    <tr>\n",
              "      <th>4</th>\n",
              "      <td>XR_HUMERUS</td>\n",
              "      <td>patient11689</td>\n",
              "      <td>0</td>\n",
              "      <td>../input/mura-v11/MURA-v1.1/valid/XR_HUMERUS/p...</td>\n",
              "    </tr>\n",
              "  </tbody>\n",
              "</table>\n",
              "</div>\n",
              "    <div class=\"colab-df-buttons\">\n",
              "\n",
              "  <div class=\"colab-df-container\">\n",
              "    <button class=\"colab-df-convert\" onclick=\"convertToInteractive('df-6c4f4141-c8d9-4690-a287-de307cbeb752')\"\n",
              "            title=\"Convert this dataframe to an interactive table.\"\n",
              "            style=\"display:none;\">\n",
              "\n",
              "  <svg xmlns=\"http://www.w3.org/2000/svg\" height=\"24px\" viewBox=\"0 -960 960 960\">\n",
              "    <path d=\"M120-120v-720h720v720H120Zm60-500h600v-160H180v160Zm220 220h160v-160H400v160Zm0 220h160v-160H400v160ZM180-400h160v-160H180v160Zm440 0h160v-160H620v160ZM180-180h160v-160H180v160Zm440 0h160v-160H620v160Z\"/>\n",
              "  </svg>\n",
              "    </button>\n",
              "\n",
              "  <style>\n",
              "    .colab-df-container {\n",
              "      display:flex;\n",
              "      gap: 12px;\n",
              "    }\n",
              "\n",
              "    .colab-df-convert {\n",
              "      background-color: #E8F0FE;\n",
              "      border: none;\n",
              "      border-radius: 50%;\n",
              "      cursor: pointer;\n",
              "      display: none;\n",
              "      fill: #1967D2;\n",
              "      height: 32px;\n",
              "      padding: 0 0 0 0;\n",
              "      width: 32px;\n",
              "    }\n",
              "\n",
              "    .colab-df-convert:hover {\n",
              "      background-color: #E2EBFA;\n",
              "      box-shadow: 0px 1px 2px rgba(60, 64, 67, 0.3), 0px 1px 3px 1px rgba(60, 64, 67, 0.15);\n",
              "      fill: #174EA6;\n",
              "    }\n",
              "\n",
              "    .colab-df-buttons div {\n",
              "      margin-bottom: 4px;\n",
              "    }\n",
              "\n",
              "    [theme=dark] .colab-df-convert {\n",
              "      background-color: #3B4455;\n",
              "      fill: #D2E3FC;\n",
              "    }\n",
              "\n",
              "    [theme=dark] .colab-df-convert:hover {\n",
              "      background-color: #434B5C;\n",
              "      box-shadow: 0px 1px 3px 1px rgba(0, 0, 0, 0.15);\n",
              "      filter: drop-shadow(0px 1px 2px rgba(0, 0, 0, 0.3));\n",
              "      fill: #FFFFFF;\n",
              "    }\n",
              "  </style>\n",
              "\n",
              "    <script>\n",
              "      const buttonEl =\n",
              "        document.querySelector('#df-6c4f4141-c8d9-4690-a287-de307cbeb752 button.colab-df-convert');\n",
              "      buttonEl.style.display =\n",
              "        google.colab.kernel.accessAllowed ? 'block' : 'none';\n",
              "\n",
              "      async function convertToInteractive(key) {\n",
              "        const element = document.querySelector('#df-6c4f4141-c8d9-4690-a287-de307cbeb752');\n",
              "        const dataTable =\n",
              "          await google.colab.kernel.invokeFunction('convertToInteractive',\n",
              "                                                    [key], {});\n",
              "        if (!dataTable) return;\n",
              "\n",
              "        const docLinkHtml = 'Like what you see? Visit the ' +\n",
              "          '<a target=\"_blank\" href=https://colab.research.google.com/notebooks/data_table.ipynb>data table notebook</a>'\n",
              "          + ' to learn more about interactive tables.';\n",
              "        element.innerHTML = '';\n",
              "        dataTable['output_type'] = 'display_data';\n",
              "        await google.colab.output.renderOutput(dataTable, element);\n",
              "        const docLink = document.createElement('div');\n",
              "        docLink.innerHTML = docLinkHtml;\n",
              "        element.appendChild(docLink);\n",
              "      }\n",
              "    </script>\n",
              "  </div>\n",
              "\n",
              "\n",
              "<div id=\"df-00fe5999-2e56-438b-84c5-32d2bff72f9a\">\n",
              "  <button class=\"colab-df-quickchart\" onclick=\"quickchart('df-00fe5999-2e56-438b-84c5-32d2bff72f9a')\"\n",
              "            title=\"Suggest charts\"\n",
              "            style=\"display:none;\">\n",
              "\n",
              "<svg xmlns=\"http://www.w3.org/2000/svg\" height=\"24px\"viewBox=\"0 0 24 24\"\n",
              "     width=\"24px\">\n",
              "    <g>\n",
              "        <path d=\"M19 3H5c-1.1 0-2 .9-2 2v14c0 1.1.9 2 2 2h14c1.1 0 2-.9 2-2V5c0-1.1-.9-2-2-2zM9 17H7v-7h2v7zm4 0h-2V7h2v10zm4 0h-2v-4h2v4z\"/>\n",
              "    </g>\n",
              "</svg>\n",
              "  </button>\n",
              "\n",
              "<style>\n",
              "  .colab-df-quickchart {\n",
              "      --bg-color: #E8F0FE;\n",
              "      --fill-color: #1967D2;\n",
              "      --hover-bg-color: #E2EBFA;\n",
              "      --hover-fill-color: #174EA6;\n",
              "      --disabled-fill-color: #AAA;\n",
              "      --disabled-bg-color: #DDD;\n",
              "  }\n",
              "\n",
              "  [theme=dark] .colab-df-quickchart {\n",
              "      --bg-color: #3B4455;\n",
              "      --fill-color: #D2E3FC;\n",
              "      --hover-bg-color: #434B5C;\n",
              "      --hover-fill-color: #FFFFFF;\n",
              "      --disabled-bg-color: #3B4455;\n",
              "      --disabled-fill-color: #666;\n",
              "  }\n",
              "\n",
              "  .colab-df-quickchart {\n",
              "    background-color: var(--bg-color);\n",
              "    border: none;\n",
              "    border-radius: 50%;\n",
              "    cursor: pointer;\n",
              "    display: none;\n",
              "    fill: var(--fill-color);\n",
              "    height: 32px;\n",
              "    padding: 0;\n",
              "    width: 32px;\n",
              "  }\n",
              "\n",
              "  .colab-df-quickchart:hover {\n",
              "    background-color: var(--hover-bg-color);\n",
              "    box-shadow: 0 1px 2px rgba(60, 64, 67, 0.3), 0 1px 3px 1px rgba(60, 64, 67, 0.15);\n",
              "    fill: var(--button-hover-fill-color);\n",
              "  }\n",
              "\n",
              "  .colab-df-quickchart-complete:disabled,\n",
              "  .colab-df-quickchart-complete:disabled:hover {\n",
              "    background-color: var(--disabled-bg-color);\n",
              "    fill: var(--disabled-fill-color);\n",
              "    box-shadow: none;\n",
              "  }\n",
              "\n",
              "  .colab-df-spinner {\n",
              "    border: 2px solid var(--fill-color);\n",
              "    border-color: transparent;\n",
              "    border-bottom-color: var(--fill-color);\n",
              "    animation:\n",
              "      spin 1s steps(1) infinite;\n",
              "  }\n",
              "\n",
              "  @keyframes spin {\n",
              "    0% {\n",
              "      border-color: transparent;\n",
              "      border-bottom-color: var(--fill-color);\n",
              "      border-left-color: var(--fill-color);\n",
              "    }\n",
              "    20% {\n",
              "      border-color: transparent;\n",
              "      border-left-color: var(--fill-color);\n",
              "      border-top-color: var(--fill-color);\n",
              "    }\n",
              "    30% {\n",
              "      border-color: transparent;\n",
              "      border-left-color: var(--fill-color);\n",
              "      border-top-color: var(--fill-color);\n",
              "      border-right-color: var(--fill-color);\n",
              "    }\n",
              "    40% {\n",
              "      border-color: transparent;\n",
              "      border-right-color: var(--fill-color);\n",
              "      border-top-color: var(--fill-color);\n",
              "    }\n",
              "    60% {\n",
              "      border-color: transparent;\n",
              "      border-right-color: var(--fill-color);\n",
              "    }\n",
              "    80% {\n",
              "      border-color: transparent;\n",
              "      border-right-color: var(--fill-color);\n",
              "      border-bottom-color: var(--fill-color);\n",
              "    }\n",
              "    90% {\n",
              "      border-color: transparent;\n",
              "      border-bottom-color: var(--fill-color);\n",
              "    }\n",
              "  }\n",
              "</style>\n",
              "\n",
              "  <script>\n",
              "    async function quickchart(key) {\n",
              "      const quickchartButtonEl =\n",
              "        document.querySelector('#' + key + ' button');\n",
              "      quickchartButtonEl.disabled = true;  // To prevent multiple clicks.\n",
              "      quickchartButtonEl.classList.add('colab-df-spinner');\n",
              "      try {\n",
              "        const charts = await google.colab.kernel.invokeFunction(\n",
              "            'suggestCharts', [key], {});\n",
              "      } catch (error) {\n",
              "        console.error('Error during call to suggestCharts:', error);\n",
              "      }\n",
              "      quickchartButtonEl.classList.remove('colab-df-spinner');\n",
              "      quickchartButtonEl.classList.add('colab-df-quickchart-complete');\n",
              "    }\n",
              "    (() => {\n",
              "      let quickchartButtonEl =\n",
              "        document.querySelector('#df-00fe5999-2e56-438b-84c5-32d2bff72f9a button');\n",
              "      quickchartButtonEl.style.display =\n",
              "        google.colab.kernel.accessAllowed ? 'block' : 'none';\n",
              "    })();\n",
              "  </script>\n",
              "</div>\n",
              "    </div>\n",
              "  </div>\n"
            ],
            "text/plain": [
              "    body_part    patient_id  label  \\\n",
              "0  XR_HUMERUS  patient11214      1   \n",
              "1  XR_HUMERUS  patient11214      1   \n",
              "2  XR_HUMERUS  patient11690      0   \n",
              "3  XR_HUMERUS  patient11690      0   \n",
              "4  XR_HUMERUS  patient11689      0   \n",
              "\n",
              "                                            img_path  \n",
              "0  ../input/mura-v11/MURA-v1.1/valid/XR_HUMERUS/p...  \n",
              "1  ../input/mura-v11/MURA-v1.1/valid/XR_HUMERUS/p...  \n",
              "2  ../input/mura-v11/MURA-v1.1/valid/XR_HUMERUS/p...  \n",
              "3  ../input/mura-v11/MURA-v1.1/valid/XR_HUMERUS/p...  \n",
              "4  ../input/mura-v11/MURA-v1.1/valid/XR_HUMERUS/p...  "
            ]
          },
          "execution_count": 10,
          "metadata": {},
          "output_type": "execute_result"
        }
      ],
      "source": [
        "dataset_test = load_path(path = '/content/drive/MyDrive/SmartHospital_PrecisionMedicine/Challenge_2024/MURA-v1.1/valid') # change this path with your location\n",
        "df_test = pd.DataFrame(dataset_test)\n",
        "df_test.head()"
      ]
    },
    {
      "cell_type": "markdown",
      "metadata": {
        "id": "pM7Whvp15WuV"
      },
      "source": [
        "## Data Preprocessing"
      ]
    },
    {
      "cell_type": "markdown",
      "metadata": {
        "id": "se5RhAM_5WuW"
      },
      "source": [
        "#### Creating Dataset for the Model traing and generating Labels for the same."
      ]
    },
    {
      "cell_type": "markdown",
      "metadata": {
        "id": "FwGRzsCoQYXC"
      },
      "source": [
        "**Training set**"
      ]
    },
    {
      "cell_type": "code",
      "execution_count": null,
      "metadata": {
        "id": "7WOsshcNQYXC"
      },
      "outputs": [],
      "source": [
        "#csv files path\n",
        "path = '/content/drive/MyDrive/SmartHospital_PrecisionMedicine/Challenge_2024/MURA-v1.1' # change this path with your location\n",
        "train_image_paths_csv = \"train_image_paths.csv\""
      ]
    },
    {
      "cell_type": "code",
      "execution_count": null,
      "metadata": {
        "id": "cdFLjqtsQYXC"
      },
      "outputs": [],
      "source": [
        "train_images_paths = pd.read_csv(os.path.join(path,train_image_paths_csv),dtype=str,header=None)\n",
        "train_images_paths.columns = ['image_path']"
      ]
    },
    {
      "cell_type": "code",
      "execution_count": null,
      "metadata": {
        "colab": {
          "base_uri": "https://localhost:8080/",
          "height": 206
        },
        "id": "YsPG-puiQYXF",
        "outputId": "a3dab3ca-3726-43a7-8895-a1f5046e03c6"
      },
      "outputs": [
        {
          "data": {
            "application/vnd.google.colaboratory.intrinsic+json": {
              "summary": "{\n  \"name\": \"train_images_paths\",\n  \"rows\": 36808,\n  \"fields\": [\n    {\n      \"column\": \"image_path\",\n      \"properties\": {\n        \"dtype\": \"string\",\n        \"num_unique_values\": 36808,\n        \"samples\": [\n          \"MURA-v1.1/train/XR_SHOULDER/patient00082/study1_positive/image3.png\",\n          \"MURA-v1.1/train/XR_ELBOW/patient04908/study1_positive/image1.png\",\n          \"MURA-v1.1/train/XR_SHOULDER/patient01659/study1_negative/image3.png\"\n        ],\n        \"semantic_type\": \"\",\n        \"description\": \"\"\n      }\n    },\n    {\n      \"column\": \"label\",\n      \"properties\": {\n        \"dtype\": \"category\",\n        \"num_unique_values\": 2,\n        \"samples\": [\n          \"negative\",\n          \"positive\"\n        ],\n        \"semantic_type\": \"\",\n        \"description\": \"\"\n      }\n    },\n    {\n      \"column\": \"category\",\n      \"properties\": {\n        \"dtype\": \"category\",\n        \"num_unique_values\": 7,\n        \"samples\": [\n          \"XR_SHOULDER\",\n          \"XR_HUMERUS\"\n        ],\n        \"semantic_type\": \"\",\n        \"description\": \"\"\n      }\n    },\n    {\n      \"column\": \"patientId\",\n      \"properties\": {\n        \"dtype\": \"category\",\n        \"num_unique_values\": 11184,\n        \"samples\": [\n          \"08779\",\n          \"07394\"\n        ],\n        \"semantic_type\": \"\",\n        \"description\": \"\"\n      }\n    }\n  ]\n}",
              "type": "dataframe",
              "variable_name": "train_images_paths"
            },
            "text/html": [
              "\n",
              "  <div id=\"df-a971e607-fc1e-4edd-b4b2-7022d7f11cb1\" class=\"colab-df-container\">\n",
              "    <div>\n",
              "<style scoped>\n",
              "    .dataframe tbody tr th:only-of-type {\n",
              "        vertical-align: middle;\n",
              "    }\n",
              "\n",
              "    .dataframe tbody tr th {\n",
              "        vertical-align: top;\n",
              "    }\n",
              "\n",
              "    .dataframe thead th {\n",
              "        text-align: right;\n",
              "    }\n",
              "</style>\n",
              "<table border=\"1\" class=\"dataframe\">\n",
              "  <thead>\n",
              "    <tr style=\"text-align: right;\">\n",
              "      <th></th>\n",
              "      <th>image_path</th>\n",
              "      <th>label</th>\n",
              "      <th>category</th>\n",
              "      <th>patientId</th>\n",
              "    </tr>\n",
              "  </thead>\n",
              "  <tbody>\n",
              "    <tr>\n",
              "      <th>0</th>\n",
              "      <td>MURA-v1.1/train/XR_SHOULDER/patient00001/study...</td>\n",
              "      <td>positive</td>\n",
              "      <td>XR_SHOULDER</td>\n",
              "      <td>00001</td>\n",
              "    </tr>\n",
              "    <tr>\n",
              "      <th>1</th>\n",
              "      <td>MURA-v1.1/train/XR_SHOULDER/patient00001/study...</td>\n",
              "      <td>positive</td>\n",
              "      <td>XR_SHOULDER</td>\n",
              "      <td>00001</td>\n",
              "    </tr>\n",
              "    <tr>\n",
              "      <th>2</th>\n",
              "      <td>MURA-v1.1/train/XR_SHOULDER/patient00001/study...</td>\n",
              "      <td>positive</td>\n",
              "      <td>XR_SHOULDER</td>\n",
              "      <td>00001</td>\n",
              "    </tr>\n",
              "    <tr>\n",
              "      <th>3</th>\n",
              "      <td>MURA-v1.1/train/XR_SHOULDER/patient00002/study...</td>\n",
              "      <td>positive</td>\n",
              "      <td>XR_SHOULDER</td>\n",
              "      <td>00002</td>\n",
              "    </tr>\n",
              "    <tr>\n",
              "      <th>4</th>\n",
              "      <td>MURA-v1.1/train/XR_SHOULDER/patient00002/study...</td>\n",
              "      <td>positive</td>\n",
              "      <td>XR_SHOULDER</td>\n",
              "      <td>00002</td>\n",
              "    </tr>\n",
              "  </tbody>\n",
              "</table>\n",
              "</div>\n",
              "    <div class=\"colab-df-buttons\">\n",
              "\n",
              "  <div class=\"colab-df-container\">\n",
              "    <button class=\"colab-df-convert\" onclick=\"convertToInteractive('df-a971e607-fc1e-4edd-b4b2-7022d7f11cb1')\"\n",
              "            title=\"Convert this dataframe to an interactive table.\"\n",
              "            style=\"display:none;\">\n",
              "\n",
              "  <svg xmlns=\"http://www.w3.org/2000/svg\" height=\"24px\" viewBox=\"0 -960 960 960\">\n",
              "    <path d=\"M120-120v-720h720v720H120Zm60-500h600v-160H180v160Zm220 220h160v-160H400v160Zm0 220h160v-160H400v160ZM180-400h160v-160H180v160Zm440 0h160v-160H620v160ZM180-180h160v-160H180v160Zm440 0h160v-160H620v160Z\"/>\n",
              "  </svg>\n",
              "    </button>\n",
              "\n",
              "  <style>\n",
              "    .colab-df-container {\n",
              "      display:flex;\n",
              "      gap: 12px;\n",
              "    }\n",
              "\n",
              "    .colab-df-convert {\n",
              "      background-color: #E8F0FE;\n",
              "      border: none;\n",
              "      border-radius: 50%;\n",
              "      cursor: pointer;\n",
              "      display: none;\n",
              "      fill: #1967D2;\n",
              "      height: 32px;\n",
              "      padding: 0 0 0 0;\n",
              "      width: 32px;\n",
              "    }\n",
              "\n",
              "    .colab-df-convert:hover {\n",
              "      background-color: #E2EBFA;\n",
              "      box-shadow: 0px 1px 2px rgba(60, 64, 67, 0.3), 0px 1px 3px 1px rgba(60, 64, 67, 0.15);\n",
              "      fill: #174EA6;\n",
              "    }\n",
              "\n",
              "    .colab-df-buttons div {\n",
              "      margin-bottom: 4px;\n",
              "    }\n",
              "\n",
              "    [theme=dark] .colab-df-convert {\n",
              "      background-color: #3B4455;\n",
              "      fill: #D2E3FC;\n",
              "    }\n",
              "\n",
              "    [theme=dark] .colab-df-convert:hover {\n",
              "      background-color: #434B5C;\n",
              "      box-shadow: 0px 1px 3px 1px rgba(0, 0, 0, 0.15);\n",
              "      filter: drop-shadow(0px 1px 2px rgba(0, 0, 0, 0.3));\n",
              "      fill: #FFFFFF;\n",
              "    }\n",
              "  </style>\n",
              "\n",
              "    <script>\n",
              "      const buttonEl =\n",
              "        document.querySelector('#df-a971e607-fc1e-4edd-b4b2-7022d7f11cb1 button.colab-df-convert');\n",
              "      buttonEl.style.display =\n",
              "        google.colab.kernel.accessAllowed ? 'block' : 'none';\n",
              "\n",
              "      async function convertToInteractive(key) {\n",
              "        const element = document.querySelector('#df-a971e607-fc1e-4edd-b4b2-7022d7f11cb1');\n",
              "        const dataTable =\n",
              "          await google.colab.kernel.invokeFunction('convertToInteractive',\n",
              "                                                    [key], {});\n",
              "        if (!dataTable) return;\n",
              "\n",
              "        const docLinkHtml = 'Like what you see? Visit the ' +\n",
              "          '<a target=\"_blank\" href=https://colab.research.google.com/notebooks/data_table.ipynb>data table notebook</a>'\n",
              "          + ' to learn more about interactive tables.';\n",
              "        element.innerHTML = '';\n",
              "        dataTable['output_type'] = 'display_data';\n",
              "        await google.colab.output.renderOutput(dataTable, element);\n",
              "        const docLink = document.createElement('div');\n",
              "        docLink.innerHTML = docLinkHtml;\n",
              "        element.appendChild(docLink);\n",
              "      }\n",
              "    </script>\n",
              "  </div>\n",
              "\n",
              "\n",
              "<div id=\"df-70a67f75-8dd3-439d-814d-42bed2ec83bf\">\n",
              "  <button class=\"colab-df-quickchart\" onclick=\"quickchart('df-70a67f75-8dd3-439d-814d-42bed2ec83bf')\"\n",
              "            title=\"Suggest charts\"\n",
              "            style=\"display:none;\">\n",
              "\n",
              "<svg xmlns=\"http://www.w3.org/2000/svg\" height=\"24px\"viewBox=\"0 0 24 24\"\n",
              "     width=\"24px\">\n",
              "    <g>\n",
              "        <path d=\"M19 3H5c-1.1 0-2 .9-2 2v14c0 1.1.9 2 2 2h14c1.1 0 2-.9 2-2V5c0-1.1-.9-2-2-2zM9 17H7v-7h2v7zm4 0h-2V7h2v10zm4 0h-2v-4h2v4z\"/>\n",
              "    </g>\n",
              "</svg>\n",
              "  </button>\n",
              "\n",
              "<style>\n",
              "  .colab-df-quickchart {\n",
              "      --bg-color: #E8F0FE;\n",
              "      --fill-color: #1967D2;\n",
              "      --hover-bg-color: #E2EBFA;\n",
              "      --hover-fill-color: #174EA6;\n",
              "      --disabled-fill-color: #AAA;\n",
              "      --disabled-bg-color: #DDD;\n",
              "  }\n",
              "\n",
              "  [theme=dark] .colab-df-quickchart {\n",
              "      --bg-color: #3B4455;\n",
              "      --fill-color: #D2E3FC;\n",
              "      --hover-bg-color: #434B5C;\n",
              "      --hover-fill-color: #FFFFFF;\n",
              "      --disabled-bg-color: #3B4455;\n",
              "      --disabled-fill-color: #666;\n",
              "  }\n",
              "\n",
              "  .colab-df-quickchart {\n",
              "    background-color: var(--bg-color);\n",
              "    border: none;\n",
              "    border-radius: 50%;\n",
              "    cursor: pointer;\n",
              "    display: none;\n",
              "    fill: var(--fill-color);\n",
              "    height: 32px;\n",
              "    padding: 0;\n",
              "    width: 32px;\n",
              "  }\n",
              "\n",
              "  .colab-df-quickchart:hover {\n",
              "    background-color: var(--hover-bg-color);\n",
              "    box-shadow: 0 1px 2px rgba(60, 64, 67, 0.3), 0 1px 3px 1px rgba(60, 64, 67, 0.15);\n",
              "    fill: var(--button-hover-fill-color);\n",
              "  }\n",
              "\n",
              "  .colab-df-quickchart-complete:disabled,\n",
              "  .colab-df-quickchart-complete:disabled:hover {\n",
              "    background-color: var(--disabled-bg-color);\n",
              "    fill: var(--disabled-fill-color);\n",
              "    box-shadow: none;\n",
              "  }\n",
              "\n",
              "  .colab-df-spinner {\n",
              "    border: 2px solid var(--fill-color);\n",
              "    border-color: transparent;\n",
              "    border-bottom-color: var(--fill-color);\n",
              "    animation:\n",
              "      spin 1s steps(1) infinite;\n",
              "  }\n",
              "\n",
              "  @keyframes spin {\n",
              "    0% {\n",
              "      border-color: transparent;\n",
              "      border-bottom-color: var(--fill-color);\n",
              "      border-left-color: var(--fill-color);\n",
              "    }\n",
              "    20% {\n",
              "      border-color: transparent;\n",
              "      border-left-color: var(--fill-color);\n",
              "      border-top-color: var(--fill-color);\n",
              "    }\n",
              "    30% {\n",
              "      border-color: transparent;\n",
              "      border-left-color: var(--fill-color);\n",
              "      border-top-color: var(--fill-color);\n",
              "      border-right-color: var(--fill-color);\n",
              "    }\n",
              "    40% {\n",
              "      border-color: transparent;\n",
              "      border-right-color: var(--fill-color);\n",
              "      border-top-color: var(--fill-color);\n",
              "    }\n",
              "    60% {\n",
              "      border-color: transparent;\n",
              "      border-right-color: var(--fill-color);\n",
              "    }\n",
              "    80% {\n",
              "      border-color: transparent;\n",
              "      border-right-color: var(--fill-color);\n",
              "      border-bottom-color: var(--fill-color);\n",
              "    }\n",
              "    90% {\n",
              "      border-color: transparent;\n",
              "      border-bottom-color: var(--fill-color);\n",
              "    }\n",
              "  }\n",
              "</style>\n",
              "\n",
              "  <script>\n",
              "    async function quickchart(key) {\n",
              "      const quickchartButtonEl =\n",
              "        document.querySelector('#' + key + ' button');\n",
              "      quickchartButtonEl.disabled = true;  // To prevent multiple clicks.\n",
              "      quickchartButtonEl.classList.add('colab-df-spinner');\n",
              "      try {\n",
              "        const charts = await google.colab.kernel.invokeFunction(\n",
              "            'suggestCharts', [key], {});\n",
              "      } catch (error) {\n",
              "        console.error('Error during call to suggestCharts:', error);\n",
              "      }\n",
              "      quickchartButtonEl.classList.remove('colab-df-spinner');\n",
              "      quickchartButtonEl.classList.add('colab-df-quickchart-complete');\n",
              "    }\n",
              "    (() => {\n",
              "      let quickchartButtonEl =\n",
              "        document.querySelector('#df-70a67f75-8dd3-439d-814d-42bed2ec83bf button');\n",
              "      quickchartButtonEl.style.display =\n",
              "        google.colab.kernel.accessAllowed ? 'block' : 'none';\n",
              "    })();\n",
              "  </script>\n",
              "</div>\n",
              "    </div>\n",
              "  </div>\n"
            ],
            "text/plain": [
              "                                          image_path     label     category  \\\n",
              "0  MURA-v1.1/train/XR_SHOULDER/patient00001/study...  positive  XR_SHOULDER   \n",
              "1  MURA-v1.1/train/XR_SHOULDER/patient00001/study...  positive  XR_SHOULDER   \n",
              "2  MURA-v1.1/train/XR_SHOULDER/patient00001/study...  positive  XR_SHOULDER   \n",
              "3  MURA-v1.1/train/XR_SHOULDER/patient00002/study...  positive  XR_SHOULDER   \n",
              "4  MURA-v1.1/train/XR_SHOULDER/patient00002/study...  positive  XR_SHOULDER   \n",
              "\n",
              "  patientId  \n",
              "0     00001  \n",
              "1     00001  \n",
              "2     00001  \n",
              "3     00002  \n",
              "4     00002  "
            ]
          },
          "execution_count": 13,
          "metadata": {},
          "output_type": "execute_result"
        }
      ],
      "source": [
        "train_images_paths['label'] = train_images_paths['image_path'].map(lambda x:'positive' if 'positive' in x else 'negative')\n",
        "train_images_paths['category']  = train_images_paths['image_path'].apply(lambda x: x.split('/')[2])\n",
        "train_images_paths['patientId']  = train_images_paths['image_path'].apply(lambda x: x.split('/')[3].replace('patient',''))\n",
        "train_images_paths.head()"
      ]
    },
    {
      "cell_type": "markdown",
      "metadata": {
        "id": "2SZNMCCZQYXG"
      },
      "source": [
        "**Test set**"
      ]
    },
    {
      "cell_type": "code",
      "execution_count": null,
      "metadata": {
        "id": "C9SYQW7dQYXH"
      },
      "outputs": [],
      "source": [
        "path = '../input/mura-v11/MURA-v1.1'\n",
        "valid_image_paths_csv = \"valid_image_paths.csv\"\n",
        "valid_data_paths = pd.read_csv(os.path.join(path,valid_image_paths_csv),dtype=str,header=None)\n",
        "valid_data_paths.columns = ['image_path']"
      ]
    },
    {
      "cell_type": "code",
      "execution_count": null,
      "metadata": {
        "colab": {
          "base_uri": "https://localhost:8080/",
          "height": 206
        },
        "id": "rVbi6yU8QYXH",
        "outputId": "49e5daf6-4406-4a2a-9788-60667b31acf9"
      },
      "outputs": [
        {
          "data": {
            "application/vnd.google.colaboratory.intrinsic+json": {
              "summary": "{\n  \"name\": \"valid_data_paths\",\n  \"rows\": 3197,\n  \"fields\": [\n    {\n      \"column\": \"image_path\",\n      \"properties\": {\n        \"dtype\": \"string\",\n        \"num_unique_values\": 3197,\n        \"samples\": [\n          \"MURA-v1.1/valid/XR_SHOULDER/patient11737/study1_positive/image1.png\",\n          \"MURA-v1.1/valid/XR_HAND/patient11348/study1_negative/image2.png\",\n          \"MURA-v1.1/valid/XR_ELBOW/patient11283/study1_negative/image1.png\"\n        ],\n        \"semantic_type\": \"\",\n        \"description\": \"\"\n      }\n    },\n    {\n      \"column\": \"label\",\n      \"properties\": {\n        \"dtype\": \"category\",\n        \"num_unique_values\": 2,\n        \"samples\": [\n          \"negative\",\n          \"positive\"\n        ],\n        \"semantic_type\": \"\",\n        \"description\": \"\"\n      }\n    },\n    {\n      \"column\": \"category\",\n      \"properties\": {\n        \"dtype\": \"category\",\n        \"num_unique_values\": 7,\n        \"samples\": [\n          \"XR_WRIST\",\n          \"XR_FOREARM\"\n        ],\n        \"semantic_type\": \"\",\n        \"description\": \"\"\n      }\n    },\n    {\n      \"column\": \"dir\",\n      \"properties\": {\n        \"dtype\": \"category\",\n        \"num_unique_values\": 1,\n        \"samples\": [\n          \"valid\"\n        ],\n        \"semantic_type\": \"\",\n        \"description\": \"\"\n      }\n    },\n    {\n      \"column\": \"patientId\",\n      \"properties\": {\n        \"dtype\": \"category\",\n        \"num_unique_values\": 783,\n        \"samples\": [\n          \"11782\"\n        ],\n        \"semantic_type\": \"\",\n        \"description\": \"\"\n      }\n    }\n  ]\n}",
              "type": "dataframe",
              "variable_name": "valid_data_paths"
            },
            "text/html": [
              "\n",
              "  <div id=\"df-0ef742db-f1fb-4ed9-ac05-1a133e7043e5\" class=\"colab-df-container\">\n",
              "    <div>\n",
              "<style scoped>\n",
              "    .dataframe tbody tr th:only-of-type {\n",
              "        vertical-align: middle;\n",
              "    }\n",
              "\n",
              "    .dataframe tbody tr th {\n",
              "        vertical-align: top;\n",
              "    }\n",
              "\n",
              "    .dataframe thead th {\n",
              "        text-align: right;\n",
              "    }\n",
              "</style>\n",
              "<table border=\"1\" class=\"dataframe\">\n",
              "  <thead>\n",
              "    <tr style=\"text-align: right;\">\n",
              "      <th></th>\n",
              "      <th>image_path</th>\n",
              "      <th>label</th>\n",
              "      <th>category</th>\n",
              "      <th>dir</th>\n",
              "      <th>patientId</th>\n",
              "    </tr>\n",
              "  </thead>\n",
              "  <tbody>\n",
              "    <tr>\n",
              "      <th>0</th>\n",
              "      <td>MURA-v1.1/valid/XR_WRIST/patient11185/study1_p...</td>\n",
              "      <td>positive</td>\n",
              "      <td>XR_WRIST</td>\n",
              "      <td>valid</td>\n",
              "      <td>11185</td>\n",
              "    </tr>\n",
              "    <tr>\n",
              "      <th>1</th>\n",
              "      <td>MURA-v1.1/valid/XR_WRIST/patient11185/study1_p...</td>\n",
              "      <td>positive</td>\n",
              "      <td>XR_WRIST</td>\n",
              "      <td>valid</td>\n",
              "      <td>11185</td>\n",
              "    </tr>\n",
              "    <tr>\n",
              "      <th>2</th>\n",
              "      <td>MURA-v1.1/valid/XR_WRIST/patient11185/study1_p...</td>\n",
              "      <td>positive</td>\n",
              "      <td>XR_WRIST</td>\n",
              "      <td>valid</td>\n",
              "      <td>11185</td>\n",
              "    </tr>\n",
              "    <tr>\n",
              "      <th>3</th>\n",
              "      <td>MURA-v1.1/valid/XR_WRIST/patient11185/study1_p...</td>\n",
              "      <td>positive</td>\n",
              "      <td>XR_WRIST</td>\n",
              "      <td>valid</td>\n",
              "      <td>11185</td>\n",
              "    </tr>\n",
              "    <tr>\n",
              "      <th>4</th>\n",
              "      <td>MURA-v1.1/valid/XR_WRIST/patient11186/study1_p...</td>\n",
              "      <td>positive</td>\n",
              "      <td>XR_WRIST</td>\n",
              "      <td>valid</td>\n",
              "      <td>11186</td>\n",
              "    </tr>\n",
              "  </tbody>\n",
              "</table>\n",
              "</div>\n",
              "    <div class=\"colab-df-buttons\">\n",
              "\n",
              "  <div class=\"colab-df-container\">\n",
              "    <button class=\"colab-df-convert\" onclick=\"convertToInteractive('df-0ef742db-f1fb-4ed9-ac05-1a133e7043e5')\"\n",
              "            title=\"Convert this dataframe to an interactive table.\"\n",
              "            style=\"display:none;\">\n",
              "\n",
              "  <svg xmlns=\"http://www.w3.org/2000/svg\" height=\"24px\" viewBox=\"0 -960 960 960\">\n",
              "    <path d=\"M120-120v-720h720v720H120Zm60-500h600v-160H180v160Zm220 220h160v-160H400v160Zm0 220h160v-160H400v160ZM180-400h160v-160H180v160Zm440 0h160v-160H620v160ZM180-180h160v-160H180v160Zm440 0h160v-160H620v160Z\"/>\n",
              "  </svg>\n",
              "    </button>\n",
              "\n",
              "  <style>\n",
              "    .colab-df-container {\n",
              "      display:flex;\n",
              "      gap: 12px;\n",
              "    }\n",
              "\n",
              "    .colab-df-convert {\n",
              "      background-color: #E8F0FE;\n",
              "      border: none;\n",
              "      border-radius: 50%;\n",
              "      cursor: pointer;\n",
              "      display: none;\n",
              "      fill: #1967D2;\n",
              "      height: 32px;\n",
              "      padding: 0 0 0 0;\n",
              "      width: 32px;\n",
              "    }\n",
              "\n",
              "    .colab-df-convert:hover {\n",
              "      background-color: #E2EBFA;\n",
              "      box-shadow: 0px 1px 2px rgba(60, 64, 67, 0.3), 0px 1px 3px 1px rgba(60, 64, 67, 0.15);\n",
              "      fill: #174EA6;\n",
              "    }\n",
              "\n",
              "    .colab-df-buttons div {\n",
              "      margin-bottom: 4px;\n",
              "    }\n",
              "\n",
              "    [theme=dark] .colab-df-convert {\n",
              "      background-color: #3B4455;\n",
              "      fill: #D2E3FC;\n",
              "    }\n",
              "\n",
              "    [theme=dark] .colab-df-convert:hover {\n",
              "      background-color: #434B5C;\n",
              "      box-shadow: 0px 1px 3px 1px rgba(0, 0, 0, 0.15);\n",
              "      filter: drop-shadow(0px 1px 2px rgba(0, 0, 0, 0.3));\n",
              "      fill: #FFFFFF;\n",
              "    }\n",
              "  </style>\n",
              "\n",
              "    <script>\n",
              "      const buttonEl =\n",
              "        document.querySelector('#df-0ef742db-f1fb-4ed9-ac05-1a133e7043e5 button.colab-df-convert');\n",
              "      buttonEl.style.display =\n",
              "        google.colab.kernel.accessAllowed ? 'block' : 'none';\n",
              "\n",
              "      async function convertToInteractive(key) {\n",
              "        const element = document.querySelector('#df-0ef742db-f1fb-4ed9-ac05-1a133e7043e5');\n",
              "        const dataTable =\n",
              "          await google.colab.kernel.invokeFunction('convertToInteractive',\n",
              "                                                    [key], {});\n",
              "        if (!dataTable) return;\n",
              "\n",
              "        const docLinkHtml = 'Like what you see? Visit the ' +\n",
              "          '<a target=\"_blank\" href=https://colab.research.google.com/notebooks/data_table.ipynb>data table notebook</a>'\n",
              "          + ' to learn more about interactive tables.';\n",
              "        element.innerHTML = '';\n",
              "        dataTable['output_type'] = 'display_data';\n",
              "        await google.colab.output.renderOutput(dataTable, element);\n",
              "        const docLink = document.createElement('div');\n",
              "        docLink.innerHTML = docLinkHtml;\n",
              "        element.appendChild(docLink);\n",
              "      }\n",
              "    </script>\n",
              "  </div>\n",
              "\n",
              "\n",
              "<div id=\"df-a0860318-cdd6-4ce9-8b40-faf155fd7021\">\n",
              "  <button class=\"colab-df-quickchart\" onclick=\"quickchart('df-a0860318-cdd6-4ce9-8b40-faf155fd7021')\"\n",
              "            title=\"Suggest charts\"\n",
              "            style=\"display:none;\">\n",
              "\n",
              "<svg xmlns=\"http://www.w3.org/2000/svg\" height=\"24px\"viewBox=\"0 0 24 24\"\n",
              "     width=\"24px\">\n",
              "    <g>\n",
              "        <path d=\"M19 3H5c-1.1 0-2 .9-2 2v14c0 1.1.9 2 2 2h14c1.1 0 2-.9 2-2V5c0-1.1-.9-2-2-2zM9 17H7v-7h2v7zm4 0h-2V7h2v10zm4 0h-2v-4h2v4z\"/>\n",
              "    </g>\n",
              "</svg>\n",
              "  </button>\n",
              "\n",
              "<style>\n",
              "  .colab-df-quickchart {\n",
              "      --bg-color: #E8F0FE;\n",
              "      --fill-color: #1967D2;\n",
              "      --hover-bg-color: #E2EBFA;\n",
              "      --hover-fill-color: #174EA6;\n",
              "      --disabled-fill-color: #AAA;\n",
              "      --disabled-bg-color: #DDD;\n",
              "  }\n",
              "\n",
              "  [theme=dark] .colab-df-quickchart {\n",
              "      --bg-color: #3B4455;\n",
              "      --fill-color: #D2E3FC;\n",
              "      --hover-bg-color: #434B5C;\n",
              "      --hover-fill-color: #FFFFFF;\n",
              "      --disabled-bg-color: #3B4455;\n",
              "      --disabled-fill-color: #666;\n",
              "  }\n",
              "\n",
              "  .colab-df-quickchart {\n",
              "    background-color: var(--bg-color);\n",
              "    border: none;\n",
              "    border-radius: 50%;\n",
              "    cursor: pointer;\n",
              "    display: none;\n",
              "    fill: var(--fill-color);\n",
              "    height: 32px;\n",
              "    padding: 0;\n",
              "    width: 32px;\n",
              "  }\n",
              "\n",
              "  .colab-df-quickchart:hover {\n",
              "    background-color: var(--hover-bg-color);\n",
              "    box-shadow: 0 1px 2px rgba(60, 64, 67, 0.3), 0 1px 3px 1px rgba(60, 64, 67, 0.15);\n",
              "    fill: var(--button-hover-fill-color);\n",
              "  }\n",
              "\n",
              "  .colab-df-quickchart-complete:disabled,\n",
              "  .colab-df-quickchart-complete:disabled:hover {\n",
              "    background-color: var(--disabled-bg-color);\n",
              "    fill: var(--disabled-fill-color);\n",
              "    box-shadow: none;\n",
              "  }\n",
              "\n",
              "  .colab-df-spinner {\n",
              "    border: 2px solid var(--fill-color);\n",
              "    border-color: transparent;\n",
              "    border-bottom-color: var(--fill-color);\n",
              "    animation:\n",
              "      spin 1s steps(1) infinite;\n",
              "  }\n",
              "\n",
              "  @keyframes spin {\n",
              "    0% {\n",
              "      border-color: transparent;\n",
              "      border-bottom-color: var(--fill-color);\n",
              "      border-left-color: var(--fill-color);\n",
              "    }\n",
              "    20% {\n",
              "      border-color: transparent;\n",
              "      border-left-color: var(--fill-color);\n",
              "      border-top-color: var(--fill-color);\n",
              "    }\n",
              "    30% {\n",
              "      border-color: transparent;\n",
              "      border-left-color: var(--fill-color);\n",
              "      border-top-color: var(--fill-color);\n",
              "      border-right-color: var(--fill-color);\n",
              "    }\n",
              "    40% {\n",
              "      border-color: transparent;\n",
              "      border-right-color: var(--fill-color);\n",
              "      border-top-color: var(--fill-color);\n",
              "    }\n",
              "    60% {\n",
              "      border-color: transparent;\n",
              "      border-right-color: var(--fill-color);\n",
              "    }\n",
              "    80% {\n",
              "      border-color: transparent;\n",
              "      border-right-color: var(--fill-color);\n",
              "      border-bottom-color: var(--fill-color);\n",
              "    }\n",
              "    90% {\n",
              "      border-color: transparent;\n",
              "      border-bottom-color: var(--fill-color);\n",
              "    }\n",
              "  }\n",
              "</style>\n",
              "\n",
              "  <script>\n",
              "    async function quickchart(key) {\n",
              "      const quickchartButtonEl =\n",
              "        document.querySelector('#' + key + ' button');\n",
              "      quickchartButtonEl.disabled = true;  // To prevent multiple clicks.\n",
              "      quickchartButtonEl.classList.add('colab-df-spinner');\n",
              "      try {\n",
              "        const charts = await google.colab.kernel.invokeFunction(\n",
              "            'suggestCharts', [key], {});\n",
              "      } catch (error) {\n",
              "        console.error('Error during call to suggestCharts:', error);\n",
              "      }\n",
              "      quickchartButtonEl.classList.remove('colab-df-spinner');\n",
              "      quickchartButtonEl.classList.add('colab-df-quickchart-complete');\n",
              "    }\n",
              "    (() => {\n",
              "      let quickchartButtonEl =\n",
              "        document.querySelector('#df-a0860318-cdd6-4ce9-8b40-faf155fd7021 button');\n",
              "      quickchartButtonEl.style.display =\n",
              "        google.colab.kernel.accessAllowed ? 'block' : 'none';\n",
              "    })();\n",
              "  </script>\n",
              "</div>\n",
              "    </div>\n",
              "  </div>\n"
            ],
            "text/plain": [
              "                                          image_path     label  category  \\\n",
              "0  MURA-v1.1/valid/XR_WRIST/patient11185/study1_p...  positive  XR_WRIST   \n",
              "1  MURA-v1.1/valid/XR_WRIST/patient11185/study1_p...  positive  XR_WRIST   \n",
              "2  MURA-v1.1/valid/XR_WRIST/patient11185/study1_p...  positive  XR_WRIST   \n",
              "3  MURA-v1.1/valid/XR_WRIST/patient11185/study1_p...  positive  XR_WRIST   \n",
              "4  MURA-v1.1/valid/XR_WRIST/patient11186/study1_p...  positive  XR_WRIST   \n",
              "\n",
              "     dir patientId  \n",
              "0  valid     11185  \n",
              "1  valid     11185  \n",
              "2  valid     11185  \n",
              "3  valid     11185  \n",
              "4  valid     11186  "
            ]
          },
          "execution_count": 15,
          "metadata": {},
          "output_type": "execute_result"
        }
      ],
      "source": [
        "valid_data_paths['label'] = valid_data_paths['image_path'].map(lambda x:'positive' if 'positive' in x else 'negative')\n",
        "valid_data_paths['category']  = valid_data_paths['image_path'].apply(lambda x: x.split('/')[2])\n",
        "valid_data_paths['dir'] =  valid_data_paths['image_path'].apply(lambda x: x.split('/')[1])\n",
        "valid_data_paths['patientId']  = valid_data_paths['image_path'].apply(lambda x: x.split('/')[3].replace('patient',''))\n",
        "valid_data_paths.head()"
      ]
    },
    {
      "cell_type": "code",
      "execution_count": null,
      "metadata": {
        "id": "lnzyehT7NaUI"
      },
      "outputs": [],
      "source": [
        "train_images_paths['label_index']= train_images_paths.label"
      ]
    },
    {
      "cell_type": "code",
      "execution_count": null,
      "metadata": {
        "colab": {
          "base_uri": "https://localhost:8080/",
          "height": 144
        },
        "id": "PkAEbyYKLp9c",
        "outputId": "25a8eb2f-db28-4573-9788-9b2a7022de6c"
      },
      "outputs": [
        {
          "data": {
            "application/vnd.google.colaboratory.intrinsic+json": {
              "summary": "{\n  \"name\": \"train_images_paths\",\n  \"rows\": 36808,\n  \"fields\": [\n    {\n      \"column\": \"image_path\",\n      \"properties\": {\n        \"dtype\": \"string\",\n        \"num_unique_values\": 36808,\n        \"samples\": [\n          \"MURA-v1.1/train/XR_SHOULDER/patient00082/study1_positive/image3.png\",\n          \"MURA-v1.1/train/XR_ELBOW/patient04908/study1_positive/image1.png\",\n          \"MURA-v1.1/train/XR_SHOULDER/patient01659/study1_negative/image3.png\"\n        ],\n        \"semantic_type\": \"\",\n        \"description\": \"\"\n      }\n    },\n    {\n      \"column\": \"label\",\n      \"properties\": {\n        \"dtype\": \"category\",\n        \"num_unique_values\": 2,\n        \"samples\": [\n          \"negative\",\n          \"positive\"\n        ],\n        \"semantic_type\": \"\",\n        \"description\": \"\"\n      }\n    },\n    {\n      \"column\": \"category\",\n      \"properties\": {\n        \"dtype\": \"category\",\n        \"num_unique_values\": 7,\n        \"samples\": [\n          \"XR_SHOULDER\",\n          \"XR_HUMERUS\"\n        ],\n        \"semantic_type\": \"\",\n        \"description\": \"\"\n      }\n    },\n    {\n      \"column\": \"patientId\",\n      \"properties\": {\n        \"dtype\": \"category\",\n        \"num_unique_values\": 11184,\n        \"samples\": [\n          \"08779\",\n          \"07394\"\n        ],\n        \"semantic_type\": \"\",\n        \"description\": \"\"\n      }\n    },\n    {\n      \"column\": \"label_index\",\n      \"properties\": {\n        \"dtype\": \"number\",\n        \"std\": 0,\n        \"min\": 0,\n        \"max\": 1,\n        \"num_unique_values\": 2,\n        \"samples\": [\n          0,\n          1\n        ],\n        \"semantic_type\": \"\",\n        \"description\": \"\"\n      }\n    }\n  ]\n}",
              "type": "dataframe",
              "variable_name": "train_images_paths"
            },
            "text/html": [
              "\n",
              "  <div id=\"df-bc3ebdd9-5312-4d3b-88d3-294324fcd0b0\" class=\"colab-df-container\">\n",
              "    <div>\n",
              "<style scoped>\n",
              "    .dataframe tbody tr th:only-of-type {\n",
              "        vertical-align: middle;\n",
              "    }\n",
              "\n",
              "    .dataframe tbody tr th {\n",
              "        vertical-align: top;\n",
              "    }\n",
              "\n",
              "    .dataframe thead th {\n",
              "        text-align: right;\n",
              "    }\n",
              "</style>\n",
              "<table border=\"1\" class=\"dataframe\">\n",
              "  <thead>\n",
              "    <tr style=\"text-align: right;\">\n",
              "      <th></th>\n",
              "      <th>image_path</th>\n",
              "      <th>label</th>\n",
              "      <th>category</th>\n",
              "      <th>patientId</th>\n",
              "      <th>label_index</th>\n",
              "    </tr>\n",
              "  </thead>\n",
              "  <tbody>\n",
              "    <tr>\n",
              "      <th>0</th>\n",
              "      <td>MURA-v1.1/train/XR_SHOULDER/patient00001/study...</td>\n",
              "      <td>positive</td>\n",
              "      <td>XR_SHOULDER</td>\n",
              "      <td>00001</td>\n",
              "      <td>1</td>\n",
              "    </tr>\n",
              "    <tr>\n",
              "      <th>1</th>\n",
              "      <td>MURA-v1.1/train/XR_SHOULDER/patient00001/study...</td>\n",
              "      <td>positive</td>\n",
              "      <td>XR_SHOULDER</td>\n",
              "      <td>00001</td>\n",
              "      <td>1</td>\n",
              "    </tr>\n",
              "    <tr>\n",
              "      <th>2</th>\n",
              "      <td>MURA-v1.1/train/XR_SHOULDER/patient00001/study...</td>\n",
              "      <td>positive</td>\n",
              "      <td>XR_SHOULDER</td>\n",
              "      <td>00001</td>\n",
              "      <td>1</td>\n",
              "    </tr>\n",
              "  </tbody>\n",
              "</table>\n",
              "</div>\n",
              "    <div class=\"colab-df-buttons\">\n",
              "\n",
              "  <div class=\"colab-df-container\">\n",
              "    <button class=\"colab-df-convert\" onclick=\"convertToInteractive('df-bc3ebdd9-5312-4d3b-88d3-294324fcd0b0')\"\n",
              "            title=\"Convert this dataframe to an interactive table.\"\n",
              "            style=\"display:none;\">\n",
              "\n",
              "  <svg xmlns=\"http://www.w3.org/2000/svg\" height=\"24px\" viewBox=\"0 -960 960 960\">\n",
              "    <path d=\"M120-120v-720h720v720H120Zm60-500h600v-160H180v160Zm220 220h160v-160H400v160Zm0 220h160v-160H400v160ZM180-400h160v-160H180v160Zm440 0h160v-160H620v160ZM180-180h160v-160H180v160Zm440 0h160v-160H620v160Z\"/>\n",
              "  </svg>\n",
              "    </button>\n",
              "\n",
              "  <style>\n",
              "    .colab-df-container {\n",
              "      display:flex;\n",
              "      gap: 12px;\n",
              "    }\n",
              "\n",
              "    .colab-df-convert {\n",
              "      background-color: #E8F0FE;\n",
              "      border: none;\n",
              "      border-radius: 50%;\n",
              "      cursor: pointer;\n",
              "      display: none;\n",
              "      fill: #1967D2;\n",
              "      height: 32px;\n",
              "      padding: 0 0 0 0;\n",
              "      width: 32px;\n",
              "    }\n",
              "\n",
              "    .colab-df-convert:hover {\n",
              "      background-color: #E2EBFA;\n",
              "      box-shadow: 0px 1px 2px rgba(60, 64, 67, 0.3), 0px 1px 3px 1px rgba(60, 64, 67, 0.15);\n",
              "      fill: #174EA6;\n",
              "    }\n",
              "\n",
              "    .colab-df-buttons div {\n",
              "      margin-bottom: 4px;\n",
              "    }\n",
              "\n",
              "    [theme=dark] .colab-df-convert {\n",
              "      background-color: #3B4455;\n",
              "      fill: #D2E3FC;\n",
              "    }\n",
              "\n",
              "    [theme=dark] .colab-df-convert:hover {\n",
              "      background-color: #434B5C;\n",
              "      box-shadow: 0px 1px 3px 1px rgba(0, 0, 0, 0.15);\n",
              "      filter: drop-shadow(0px 1px 2px rgba(0, 0, 0, 0.3));\n",
              "      fill: #FFFFFF;\n",
              "    }\n",
              "  </style>\n",
              "\n",
              "    <script>\n",
              "      const buttonEl =\n",
              "        document.querySelector('#df-bc3ebdd9-5312-4d3b-88d3-294324fcd0b0 button.colab-df-convert');\n",
              "      buttonEl.style.display =\n",
              "        google.colab.kernel.accessAllowed ? 'block' : 'none';\n",
              "\n",
              "      async function convertToInteractive(key) {\n",
              "        const element = document.querySelector('#df-bc3ebdd9-5312-4d3b-88d3-294324fcd0b0');\n",
              "        const dataTable =\n",
              "          await google.colab.kernel.invokeFunction('convertToInteractive',\n",
              "                                                    [key], {});\n",
              "        if (!dataTable) return;\n",
              "\n",
              "        const docLinkHtml = 'Like what you see? Visit the ' +\n",
              "          '<a target=\"_blank\" href=https://colab.research.google.com/notebooks/data_table.ipynb>data table notebook</a>'\n",
              "          + ' to learn more about interactive tables.';\n",
              "        element.innerHTML = '';\n",
              "        dataTable['output_type'] = 'display_data';\n",
              "        await google.colab.output.renderOutput(dataTable, element);\n",
              "        const docLink = document.createElement('div');\n",
              "        docLink.innerHTML = docLinkHtml;\n",
              "        element.appendChild(docLink);\n",
              "      }\n",
              "    </script>\n",
              "  </div>\n",
              "\n",
              "\n",
              "<div id=\"df-46b7c605-e490-411e-9bd3-3236cff00ef4\">\n",
              "  <button class=\"colab-df-quickchart\" onclick=\"quickchart('df-46b7c605-e490-411e-9bd3-3236cff00ef4')\"\n",
              "            title=\"Suggest charts\"\n",
              "            style=\"display:none;\">\n",
              "\n",
              "<svg xmlns=\"http://www.w3.org/2000/svg\" height=\"24px\"viewBox=\"0 0 24 24\"\n",
              "     width=\"24px\">\n",
              "    <g>\n",
              "        <path d=\"M19 3H5c-1.1 0-2 .9-2 2v14c0 1.1.9 2 2 2h14c1.1 0 2-.9 2-2V5c0-1.1-.9-2-2-2zM9 17H7v-7h2v7zm4 0h-2V7h2v10zm4 0h-2v-4h2v4z\"/>\n",
              "    </g>\n",
              "</svg>\n",
              "  </button>\n",
              "\n",
              "<style>\n",
              "  .colab-df-quickchart {\n",
              "      --bg-color: #E8F0FE;\n",
              "      --fill-color: #1967D2;\n",
              "      --hover-bg-color: #E2EBFA;\n",
              "      --hover-fill-color: #174EA6;\n",
              "      --disabled-fill-color: #AAA;\n",
              "      --disabled-bg-color: #DDD;\n",
              "  }\n",
              "\n",
              "  [theme=dark] .colab-df-quickchart {\n",
              "      --bg-color: #3B4455;\n",
              "      --fill-color: #D2E3FC;\n",
              "      --hover-bg-color: #434B5C;\n",
              "      --hover-fill-color: #FFFFFF;\n",
              "      --disabled-bg-color: #3B4455;\n",
              "      --disabled-fill-color: #666;\n",
              "  }\n",
              "\n",
              "  .colab-df-quickchart {\n",
              "    background-color: var(--bg-color);\n",
              "    border: none;\n",
              "    border-radius: 50%;\n",
              "    cursor: pointer;\n",
              "    display: none;\n",
              "    fill: var(--fill-color);\n",
              "    height: 32px;\n",
              "    padding: 0;\n",
              "    width: 32px;\n",
              "  }\n",
              "\n",
              "  .colab-df-quickchart:hover {\n",
              "    background-color: var(--hover-bg-color);\n",
              "    box-shadow: 0 1px 2px rgba(60, 64, 67, 0.3), 0 1px 3px 1px rgba(60, 64, 67, 0.15);\n",
              "    fill: var(--button-hover-fill-color);\n",
              "  }\n",
              "\n",
              "  .colab-df-quickchart-complete:disabled,\n",
              "  .colab-df-quickchart-complete:disabled:hover {\n",
              "    background-color: var(--disabled-bg-color);\n",
              "    fill: var(--disabled-fill-color);\n",
              "    box-shadow: none;\n",
              "  }\n",
              "\n",
              "  .colab-df-spinner {\n",
              "    border: 2px solid var(--fill-color);\n",
              "    border-color: transparent;\n",
              "    border-bottom-color: var(--fill-color);\n",
              "    animation:\n",
              "      spin 1s steps(1) infinite;\n",
              "  }\n",
              "\n",
              "  @keyframes spin {\n",
              "    0% {\n",
              "      border-color: transparent;\n",
              "      border-bottom-color: var(--fill-color);\n",
              "      border-left-color: var(--fill-color);\n",
              "    }\n",
              "    20% {\n",
              "      border-color: transparent;\n",
              "      border-left-color: var(--fill-color);\n",
              "      border-top-color: var(--fill-color);\n",
              "    }\n",
              "    30% {\n",
              "      border-color: transparent;\n",
              "      border-left-color: var(--fill-color);\n",
              "      border-top-color: var(--fill-color);\n",
              "      border-right-color: var(--fill-color);\n",
              "    }\n",
              "    40% {\n",
              "      border-color: transparent;\n",
              "      border-right-color: var(--fill-color);\n",
              "      border-top-color: var(--fill-color);\n",
              "    }\n",
              "    60% {\n",
              "      border-color: transparent;\n",
              "      border-right-color: var(--fill-color);\n",
              "    }\n",
              "    80% {\n",
              "      border-color: transparent;\n",
              "      border-right-color: var(--fill-color);\n",
              "      border-bottom-color: var(--fill-color);\n",
              "    }\n",
              "    90% {\n",
              "      border-color: transparent;\n",
              "      border-bottom-color: var(--fill-color);\n",
              "    }\n",
              "  }\n",
              "</style>\n",
              "\n",
              "  <script>\n",
              "    async function quickchart(key) {\n",
              "      const quickchartButtonEl =\n",
              "        document.querySelector('#' + key + ' button');\n",
              "      quickchartButtonEl.disabled = true;  // To prevent multiple clicks.\n",
              "      quickchartButtonEl.classList.add('colab-df-spinner');\n",
              "      try {\n",
              "        const charts = await google.colab.kernel.invokeFunction(\n",
              "            'suggestCharts', [key], {});\n",
              "      } catch (error) {\n",
              "        console.error('Error during call to suggestCharts:', error);\n",
              "      }\n",
              "      quickchartButtonEl.classList.remove('colab-df-spinner');\n",
              "      quickchartButtonEl.classList.add('colab-df-quickchart-complete');\n",
              "    }\n",
              "    (() => {\n",
              "      let quickchartButtonEl =\n",
              "        document.querySelector('#df-46b7c605-e490-411e-9bd3-3236cff00ef4 button');\n",
              "      quickchartButtonEl.style.display =\n",
              "        google.colab.kernel.accessAllowed ? 'block' : 'none';\n",
              "    })();\n",
              "  </script>\n",
              "</div>\n",
              "    </div>\n",
              "  </div>\n"
            ],
            "text/plain": [
              "                                          image_path     label     category  \\\n",
              "0  MURA-v1.1/train/XR_SHOULDER/patient00001/study...  positive  XR_SHOULDER   \n",
              "1  MURA-v1.1/train/XR_SHOULDER/patient00001/study...  positive  XR_SHOULDER   \n",
              "2  MURA-v1.1/train/XR_SHOULDER/patient00001/study...  positive  XR_SHOULDER   \n",
              "\n",
              "  patientId  label_index  \n",
              "0     00001            1  \n",
              "1     00001            1  \n",
              "2     00001            1  "
            ]
          },
          "execution_count": 17,
          "metadata": {},
          "output_type": "execute_result"
        }
      ],
      "source": [
        "train_images_paths.label_index.replace('positive', 1, inplace=True)\n",
        "train_images_paths.label_index.replace('negative', 0, inplace=True)\n",
        "train_images_paths.head(3)"
      ]
    },
    {
      "cell_type": "code",
      "execution_count": null,
      "metadata": {
        "colab": {
          "base_uri": "https://localhost:8080/",
          "height": 144
        },
        "id": "cPUviMCQK90J",
        "outputId": "dbc31627-9a52-4239-bab5-caeba36e4e23"
      },
      "outputs": [
        {
          "data": {
            "application/vnd.google.colaboratory.intrinsic+json": {
              "summary": "{\n  \"name\": \"valid_data_paths\",\n  \"rows\": 3197,\n  \"fields\": [\n    {\n      \"column\": \"image_path\",\n      \"properties\": {\n        \"dtype\": \"string\",\n        \"num_unique_values\": 3197,\n        \"samples\": [\n          \"MURA-v1.1/valid/XR_SHOULDER/patient11737/study1_positive/image1.png\",\n          \"MURA-v1.1/valid/XR_HAND/patient11348/study1_negative/image2.png\",\n          \"MURA-v1.1/valid/XR_ELBOW/patient11283/study1_negative/image1.png\"\n        ],\n        \"semantic_type\": \"\",\n        \"description\": \"\"\n      }\n    },\n    {\n      \"column\": \"label\",\n      \"properties\": {\n        \"dtype\": \"category\",\n        \"num_unique_values\": 2,\n        \"samples\": [\n          \"negative\",\n          \"positive\"\n        ],\n        \"semantic_type\": \"\",\n        \"description\": \"\"\n      }\n    },\n    {\n      \"column\": \"category\",\n      \"properties\": {\n        \"dtype\": \"category\",\n        \"num_unique_values\": 7,\n        \"samples\": [\n          \"XR_WRIST\",\n          \"XR_FOREARM\"\n        ],\n        \"semantic_type\": \"\",\n        \"description\": \"\"\n      }\n    },\n    {\n      \"column\": \"dir\",\n      \"properties\": {\n        \"dtype\": \"category\",\n        \"num_unique_values\": 1,\n        \"samples\": [\n          \"valid\"\n        ],\n        \"semantic_type\": \"\",\n        \"description\": \"\"\n      }\n    },\n    {\n      \"column\": \"patientId\",\n      \"properties\": {\n        \"dtype\": \"category\",\n        \"num_unique_values\": 783,\n        \"samples\": [\n          \"11782\"\n        ],\n        \"semantic_type\": \"\",\n        \"description\": \"\"\n      }\n    },\n    {\n      \"column\": \"label_index\",\n      \"properties\": {\n        \"dtype\": \"number\",\n        \"std\": 0,\n        \"min\": 0,\n        \"max\": 1,\n        \"num_unique_values\": 2,\n        \"samples\": [\n          0\n        ],\n        \"semantic_type\": \"\",\n        \"description\": \"\"\n      }\n    }\n  ]\n}",
              "type": "dataframe",
              "variable_name": "valid_data_paths"
            },
            "text/html": [
              "\n",
              "  <div id=\"df-25d504fa-a08d-4a33-a312-dac3f890eb6e\" class=\"colab-df-container\">\n",
              "    <div>\n",
              "<style scoped>\n",
              "    .dataframe tbody tr th:only-of-type {\n",
              "        vertical-align: middle;\n",
              "    }\n",
              "\n",
              "    .dataframe tbody tr th {\n",
              "        vertical-align: top;\n",
              "    }\n",
              "\n",
              "    .dataframe thead th {\n",
              "        text-align: right;\n",
              "    }\n",
              "</style>\n",
              "<table border=\"1\" class=\"dataframe\">\n",
              "  <thead>\n",
              "    <tr style=\"text-align: right;\">\n",
              "      <th></th>\n",
              "      <th>image_path</th>\n",
              "      <th>label</th>\n",
              "      <th>category</th>\n",
              "      <th>dir</th>\n",
              "      <th>patientId</th>\n",
              "      <th>label_index</th>\n",
              "    </tr>\n",
              "  </thead>\n",
              "  <tbody>\n",
              "    <tr>\n",
              "      <th>0</th>\n",
              "      <td>MURA-v1.1/valid/XR_WRIST/patient11185/study1_p...</td>\n",
              "      <td>positive</td>\n",
              "      <td>XR_WRIST</td>\n",
              "      <td>valid</td>\n",
              "      <td>11185</td>\n",
              "      <td>1</td>\n",
              "    </tr>\n",
              "    <tr>\n",
              "      <th>1</th>\n",
              "      <td>MURA-v1.1/valid/XR_WRIST/patient11185/study1_p...</td>\n",
              "      <td>positive</td>\n",
              "      <td>XR_WRIST</td>\n",
              "      <td>valid</td>\n",
              "      <td>11185</td>\n",
              "      <td>1</td>\n",
              "    </tr>\n",
              "    <tr>\n",
              "      <th>2</th>\n",
              "      <td>MURA-v1.1/valid/XR_WRIST/patient11185/study1_p...</td>\n",
              "      <td>positive</td>\n",
              "      <td>XR_WRIST</td>\n",
              "      <td>valid</td>\n",
              "      <td>11185</td>\n",
              "      <td>1</td>\n",
              "    </tr>\n",
              "  </tbody>\n",
              "</table>\n",
              "</div>\n",
              "    <div class=\"colab-df-buttons\">\n",
              "\n",
              "  <div class=\"colab-df-container\">\n",
              "    <button class=\"colab-df-convert\" onclick=\"convertToInteractive('df-25d504fa-a08d-4a33-a312-dac3f890eb6e')\"\n",
              "            title=\"Convert this dataframe to an interactive table.\"\n",
              "            style=\"display:none;\">\n",
              "\n",
              "  <svg xmlns=\"http://www.w3.org/2000/svg\" height=\"24px\" viewBox=\"0 -960 960 960\">\n",
              "    <path d=\"M120-120v-720h720v720H120Zm60-500h600v-160H180v160Zm220 220h160v-160H400v160Zm0 220h160v-160H400v160ZM180-400h160v-160H180v160Zm440 0h160v-160H620v160ZM180-180h160v-160H180v160Zm440 0h160v-160H620v160Z\"/>\n",
              "  </svg>\n",
              "    </button>\n",
              "\n",
              "  <style>\n",
              "    .colab-df-container {\n",
              "      display:flex;\n",
              "      gap: 12px;\n",
              "    }\n",
              "\n",
              "    .colab-df-convert {\n",
              "      background-color: #E8F0FE;\n",
              "      border: none;\n",
              "      border-radius: 50%;\n",
              "      cursor: pointer;\n",
              "      display: none;\n",
              "      fill: #1967D2;\n",
              "      height: 32px;\n",
              "      padding: 0 0 0 0;\n",
              "      width: 32px;\n",
              "    }\n",
              "\n",
              "    .colab-df-convert:hover {\n",
              "      background-color: #E2EBFA;\n",
              "      box-shadow: 0px 1px 2px rgba(60, 64, 67, 0.3), 0px 1px 3px 1px rgba(60, 64, 67, 0.15);\n",
              "      fill: #174EA6;\n",
              "    }\n",
              "\n",
              "    .colab-df-buttons div {\n",
              "      margin-bottom: 4px;\n",
              "    }\n",
              "\n",
              "    [theme=dark] .colab-df-convert {\n",
              "      background-color: #3B4455;\n",
              "      fill: #D2E3FC;\n",
              "    }\n",
              "\n",
              "    [theme=dark] .colab-df-convert:hover {\n",
              "      background-color: #434B5C;\n",
              "      box-shadow: 0px 1px 3px 1px rgba(0, 0, 0, 0.15);\n",
              "      filter: drop-shadow(0px 1px 2px rgba(0, 0, 0, 0.3));\n",
              "      fill: #FFFFFF;\n",
              "    }\n",
              "  </style>\n",
              "\n",
              "    <script>\n",
              "      const buttonEl =\n",
              "        document.querySelector('#df-25d504fa-a08d-4a33-a312-dac3f890eb6e button.colab-df-convert');\n",
              "      buttonEl.style.display =\n",
              "        google.colab.kernel.accessAllowed ? 'block' : 'none';\n",
              "\n",
              "      async function convertToInteractive(key) {\n",
              "        const element = document.querySelector('#df-25d504fa-a08d-4a33-a312-dac3f890eb6e');\n",
              "        const dataTable =\n",
              "          await google.colab.kernel.invokeFunction('convertToInteractive',\n",
              "                                                    [key], {});\n",
              "        if (!dataTable) return;\n",
              "\n",
              "        const docLinkHtml = 'Like what you see? Visit the ' +\n",
              "          '<a target=\"_blank\" href=https://colab.research.google.com/notebooks/data_table.ipynb>data table notebook</a>'\n",
              "          + ' to learn more about interactive tables.';\n",
              "        element.innerHTML = '';\n",
              "        dataTable['output_type'] = 'display_data';\n",
              "        await google.colab.output.renderOutput(dataTable, element);\n",
              "        const docLink = document.createElement('div');\n",
              "        docLink.innerHTML = docLinkHtml;\n",
              "        element.appendChild(docLink);\n",
              "      }\n",
              "    </script>\n",
              "  </div>\n",
              "\n",
              "\n",
              "<div id=\"df-b59ba7da-a5c1-45d2-b3b9-43d425598239\">\n",
              "  <button class=\"colab-df-quickchart\" onclick=\"quickchart('df-b59ba7da-a5c1-45d2-b3b9-43d425598239')\"\n",
              "            title=\"Suggest charts\"\n",
              "            style=\"display:none;\">\n",
              "\n",
              "<svg xmlns=\"http://www.w3.org/2000/svg\" height=\"24px\"viewBox=\"0 0 24 24\"\n",
              "     width=\"24px\">\n",
              "    <g>\n",
              "        <path d=\"M19 3H5c-1.1 0-2 .9-2 2v14c0 1.1.9 2 2 2h14c1.1 0 2-.9 2-2V5c0-1.1-.9-2-2-2zM9 17H7v-7h2v7zm4 0h-2V7h2v10zm4 0h-2v-4h2v4z\"/>\n",
              "    </g>\n",
              "</svg>\n",
              "  </button>\n",
              "\n",
              "<style>\n",
              "  .colab-df-quickchart {\n",
              "      --bg-color: #E8F0FE;\n",
              "      --fill-color: #1967D2;\n",
              "      --hover-bg-color: #E2EBFA;\n",
              "      --hover-fill-color: #174EA6;\n",
              "      --disabled-fill-color: #AAA;\n",
              "      --disabled-bg-color: #DDD;\n",
              "  }\n",
              "\n",
              "  [theme=dark] .colab-df-quickchart {\n",
              "      --bg-color: #3B4455;\n",
              "      --fill-color: #D2E3FC;\n",
              "      --hover-bg-color: #434B5C;\n",
              "      --hover-fill-color: #FFFFFF;\n",
              "      --disabled-bg-color: #3B4455;\n",
              "      --disabled-fill-color: #666;\n",
              "  }\n",
              "\n",
              "  .colab-df-quickchart {\n",
              "    background-color: var(--bg-color);\n",
              "    border: none;\n",
              "    border-radius: 50%;\n",
              "    cursor: pointer;\n",
              "    display: none;\n",
              "    fill: var(--fill-color);\n",
              "    height: 32px;\n",
              "    padding: 0;\n",
              "    width: 32px;\n",
              "  }\n",
              "\n",
              "  .colab-df-quickchart:hover {\n",
              "    background-color: var(--hover-bg-color);\n",
              "    box-shadow: 0 1px 2px rgba(60, 64, 67, 0.3), 0 1px 3px 1px rgba(60, 64, 67, 0.15);\n",
              "    fill: var(--button-hover-fill-color);\n",
              "  }\n",
              "\n",
              "  .colab-df-quickchart-complete:disabled,\n",
              "  .colab-df-quickchart-complete:disabled:hover {\n",
              "    background-color: var(--disabled-bg-color);\n",
              "    fill: var(--disabled-fill-color);\n",
              "    box-shadow: none;\n",
              "  }\n",
              "\n",
              "  .colab-df-spinner {\n",
              "    border: 2px solid var(--fill-color);\n",
              "    border-color: transparent;\n",
              "    border-bottom-color: var(--fill-color);\n",
              "    animation:\n",
              "      spin 1s steps(1) infinite;\n",
              "  }\n",
              "\n",
              "  @keyframes spin {\n",
              "    0% {\n",
              "      border-color: transparent;\n",
              "      border-bottom-color: var(--fill-color);\n",
              "      border-left-color: var(--fill-color);\n",
              "    }\n",
              "    20% {\n",
              "      border-color: transparent;\n",
              "      border-left-color: var(--fill-color);\n",
              "      border-top-color: var(--fill-color);\n",
              "    }\n",
              "    30% {\n",
              "      border-color: transparent;\n",
              "      border-left-color: var(--fill-color);\n",
              "      border-top-color: var(--fill-color);\n",
              "      border-right-color: var(--fill-color);\n",
              "    }\n",
              "    40% {\n",
              "      border-color: transparent;\n",
              "      border-right-color: var(--fill-color);\n",
              "      border-top-color: var(--fill-color);\n",
              "    }\n",
              "    60% {\n",
              "      border-color: transparent;\n",
              "      border-right-color: var(--fill-color);\n",
              "    }\n",
              "    80% {\n",
              "      border-color: transparent;\n",
              "      border-right-color: var(--fill-color);\n",
              "      border-bottom-color: var(--fill-color);\n",
              "    }\n",
              "    90% {\n",
              "      border-color: transparent;\n",
              "      border-bottom-color: var(--fill-color);\n",
              "    }\n",
              "  }\n",
              "</style>\n",
              "\n",
              "  <script>\n",
              "    async function quickchart(key) {\n",
              "      const quickchartButtonEl =\n",
              "        document.querySelector('#' + key + ' button');\n",
              "      quickchartButtonEl.disabled = true;  // To prevent multiple clicks.\n",
              "      quickchartButtonEl.classList.add('colab-df-spinner');\n",
              "      try {\n",
              "        const charts = await google.colab.kernel.invokeFunction(\n",
              "            'suggestCharts', [key], {});\n",
              "      } catch (error) {\n",
              "        console.error('Error during call to suggestCharts:', error);\n",
              "      }\n",
              "      quickchartButtonEl.classList.remove('colab-df-spinner');\n",
              "      quickchartButtonEl.classList.add('colab-df-quickchart-complete');\n",
              "    }\n",
              "    (() => {\n",
              "      let quickchartButtonEl =\n",
              "        document.querySelector('#df-b59ba7da-a5c1-45d2-b3b9-43d425598239 button');\n",
              "      quickchartButtonEl.style.display =\n",
              "        google.colab.kernel.accessAllowed ? 'block' : 'none';\n",
              "    })();\n",
              "  </script>\n",
              "</div>\n",
              "    </div>\n",
              "  </div>\n"
            ],
            "text/plain": [
              "                                          image_path     label  category  \\\n",
              "0  MURA-v1.1/valid/XR_WRIST/patient11185/study1_p...  positive  XR_WRIST   \n",
              "1  MURA-v1.1/valid/XR_WRIST/patient11185/study1_p...  positive  XR_WRIST   \n",
              "2  MURA-v1.1/valid/XR_WRIST/patient11185/study1_p...  positive  XR_WRIST   \n",
              "\n",
              "     dir patientId  label_index  \n",
              "0  valid     11185            1  \n",
              "1  valid     11185            1  \n",
              "2  valid     11185            1  "
            ]
          },
          "execution_count": 18,
          "metadata": {},
          "output_type": "execute_result"
        }
      ],
      "source": [
        "valid_data_paths['label_index']= valid_data_paths.label\n",
        "valid_data_paths.label_index.replace('positive', 1, inplace=True)\n",
        "valid_data_paths.label_index.replace('negative', 0, inplace=True)\n",
        "valid_data_paths.head(3)"
      ]
    },
    {
      "cell_type": "markdown",
      "metadata": {
        "id": "7h2QkVo-5WuW"
      },
      "source": [
        "## Image Preprocessing for creation of Dataset."
      ]
    },
    {
      "cell_type": "code",
      "execution_count": null,
      "metadata": {
        "id": "l_M_eM2tQYXI"
      },
      "outputs": [],
      "source": [
        "im_size = 256"
      ]
    },
    {
      "cell_type": "markdown",
      "metadata": {
        "id": "RhTajtF95WuX"
      },
      "source": [
        "#### Random Rotation flip"
      ]
    },
    {
      "cell_type": "code",
      "execution_count": null,
      "metadata": {
        "id": "7lSfSEP9QYXI"
      },
      "outputs": [],
      "source": [
        "def random_rotation_flip(image,size = 256):\n",
        "    if random.randint(0,1):\n",
        "        image = cv2.flip(image,1) # 1-->horizontal flip 0-->Vertical flip -1-->Horizontal and vertical\n",
        "\n",
        "    if random.randint(0,1):\n",
        "            angle = random.randint(-30,30)\n",
        "            M = cv2.getRotationMatrix2D((size/2,size/2),angle,1)\n",
        "            #The third parameter: the size of the transformed image\n",
        "            image = cv2.warpAffine(image,M,(size,size))\n",
        "    return image"
      ]
    },
    {
      "cell_type": "markdown",
      "metadata": {
        "id": "IWsRCF-c5WuX"
      },
      "source": [
        "#### Image / Dataset Loader with random rotation flip"
      ]
    },
    {
      "cell_type": "code",
      "execution_count": null,
      "metadata": {
        "id": "_Ba18mEbQYXJ"
      },
      "outputs": [],
      "source": [
        "def image_loader(Path, size = 224):\n",
        "    Images = []\n",
        "    for path in tqdm(Path):\n",
        "        try:\n",
        "            image = cv2.imread(path,cv2.IMREAD_GRAYSCALE)\n",
        "            image = cv2.resize(image,(size,size))\n",
        "            image = random_rotation_flip(image,size)\n",
        "            Images.append(image)\n",
        "        except Exception as e:\n",
        "            print(str(e))\n",
        "    Images = np.asarray(Images).astype('float32')\n",
        "    mean = np.mean(Images)\n",
        "    std = np.std(Images)\n",
        "    Images = (Images - mean) / std\n",
        "\n",
        "    return Images"
      ]
    },
    {
      "cell_type": "markdown",
      "metadata": {
        "id": "wtOKg83sQYXJ"
      },
      "source": [
        "**Train set**"
      ]
    },
    {
      "cell_type": "code",
      "execution_count": null,
      "metadata": {
        "colab": {
          "base_uri": "https://localhost:8080/"
        },
        "id": "RLiwAYT7QYXJ",
        "outputId": "a9145117-1d84-44e2-83e5-b59d3261410d"
      },
      "outputs": [
        {
          "name": "stderr",
          "output_type": "stream",
          "text": [
            "100%|██████████| 50/50 [00:00<00:00, 268.09it/s]\n"
          ]
        }
      ],
      "source": [
        "X_train = image_loader(train_images_paths['image_path'][:50,],im_size)"
      ]
    },
    {
      "cell_type": "code",
      "execution_count": null,
      "metadata": {
        "id": "QdA-zofmQYXJ"
      },
      "outputs": [],
      "source": [
        "y_train = train_images_paths['label']"
      ]
    },
    {
      "cell_type": "code",
      "execution_count": null,
      "metadata": {
        "id": "s2XVXEj_QYXK"
      },
      "outputs": [],
      "source": [
        "Y_train = y_train.replace(\"positive\",1)\n",
        "Y_train = Y_train.replace(\"negative\",0)"
      ]
    },
    {
      "cell_type": "markdown",
      "metadata": {
        "id": "iqsoPPfsQYXK"
      },
      "source": [
        "**Test set**"
      ]
    },
    {
      "cell_type": "code",
      "execution_count": null,
      "metadata": {
        "colab": {
          "base_uri": "https://localhost:8080/"
        },
        "id": "AFrV4gRlQYXK",
        "outputId": "e7c4a2ab-f84a-44c3-df35-6652b5797b37"
      },
      "outputs": [
        {
          "name": "stderr",
          "output_type": "stream",
          "text": [
            "100%|██████████| 50/50 [00:00<00:00, 374.62it/s]\n"
          ]
        }
      ],
      "source": [
        "X_test = image_loader(valid_data_paths['image_path'][:50,],im_size)"
      ]
    },
    {
      "cell_type": "code",
      "execution_count": null,
      "metadata": {
        "id": "nu9_wrIXQYXK"
      },
      "outputs": [],
      "source": [
        "y_test = valid_data_paths['label']"
      ]
    },
    {
      "cell_type": "code",
      "execution_count": null,
      "metadata": {
        "id": "pBGbBM28QYXL"
      },
      "outputs": [],
      "source": [
        "Y_test = y_test.replace(\"positive\",1)\n",
        "Y_test = Y_test.replace(\"negative\",0)"
      ]
    },
    {
      "cell_type": "code",
      "execution_count": null,
      "metadata": {
        "colab": {
          "base_uri": "https://localhost:8080/",
          "height": 983
        },
        "id": "QZi0i0WoQYXV",
        "outputId": "15d973ec-19c8-49ed-9580-9071f6bcf89e"
      },
      "outputs": [
        {
          "data": {
            "image/png": "[encoded data removed]",
            "text/plain": [
              "<Figure size 1200x1200 with 12 Axes>"
            ]
          },
          "metadata": {},
          "output_type": "display_data"
        }
      ],
      "source": [
        "from skimage.io import imread\n",
        "sub_df = train_images_paths.groupby(['category', 'label']).apply(lambda x: x.sample(1)).reset_index(drop = True)\n",
        "fig, (m_axs) = plt.subplots(4, sub_df.shape[0]//4, figsize = (12, 12))\n",
        "for c_ax, (_, c_row) in zip(m_axs.flatten(), sub_df.iterrows()):\n",
        "    c_ax.imshow(imread(c_row['image_path']), cmap = 'bone')\n",
        "    c_ax.axis('off')\n",
        "    c_ax.set_title('{category}:{label}'.format(**c_row))"
      ]
    },
    {
      "cell_type": "code",
      "execution_count": null,
      "metadata": {
        "id": "5FyjJ2VEGwX_"
      },
      "outputs": [],
      "source": [
        "train, valid = train_test_split(train_images_paths, test_size=0.2,random_state=seed)"
      ]
    },
    {
      "cell_type": "code",
      "execution_count": null,
      "metadata": {
        "id": "jo6k6DWOIMRH"
      },
      "outputs": [],
      "source": [
        "test = valid_data_paths.drop(['dir'], axis=1)"
      ]
    },
    {
      "cell_type": "markdown",
      "metadata": {
        "id": "gQYZtqneXjkq"
      },
      "source": [
        "## Dataset Preparation"
      ]
    },
    {
      "cell_type": "markdown",
      "metadata": {
        "id": "FQzffF9S5Wuc"
      },
      "source": [
        "> [NOTE : We wont be doing image augmentations in this notebook , we will do that in other Notebook to see how it impacts accuracy of models]"
      ]
    },
    {
      "cell_type": "code",
      "execution_count": null,
      "metadata": {
        "id": "xkKRgyOHXpTX"
      },
      "outputs": [],
      "source": [
        "image_generator_settings = dict(\n",
        "                          rescale = 1. / 255,\n",
        "                          #samplewise_center = True,\n",
        "                          #samplewise_std_normalization = True\n",
        "                          #rotation_range = 5,\n",
        "                         )\n",
        "image_generator = ImageDataGenerator(**image_generator_settings)"
      ]
    },
    {
      "cell_type": "code",
      "execution_count": null,
      "metadata": {
        "id": "yWrXbO4xHB5l"
      },
      "outputs": [],
      "source": [
        "path = 'MURA-v1.1'"
      ]
    },
    {
      "cell_type": "code",
      "execution_count": null,
      "metadata": {
        "colab": {
          "base_uri": "https://localhost:8080/"
        },
        "id": "gbovP9WxYsXk",
        "outputId": "bcf7734c-70e7-417c-effb-297a23f00acf"
      },
      "outputs": [
        {
          "name": "stdout",
          "output_type": "stream",
          "text": [
            "Found 29446 non-validated image filenames.\n",
            "Found 7362 validated image filenames.\n",
            "Found 3197 validated image filenames.\n"
          ]
        }
      ],
      "source": [
        "train_generator = image_generator.flow_from_dataframe(dataframe = train,directory = None,x_col = 'image_path',y_col = 'label_index',batch_size = 64,shuffle = True,class_mode = 'raw', target_size = (im_size, im_size),color_mode = 'rgb',interpolation='nearest',validate_filenames=False,seed=seed)\n",
        "valid_generator = image_generator.flow_from_dataframe(dataframe = valid,directory = None,x_col = 'image_path',y_col = 'label_index',batch_size = 64,shuffle = True,class_mode = 'raw',target_size = (im_size, im_size),color_mode = 'rgb',interpolation='nearest',validate_filenames=True,seed=seed)\n",
        "test_generator = image_generator.flow_from_dataframe(dataframe = test,directory = None,x_col = 'image_path',y_col = 'label_index',batch_size = 64,shuffle = False,class_mode = 'raw', target_size = (im_size, im_size),color_mode = 'rgb',interpolation='nearest', validate_filenames=True,seed=seed)"
      ]
    },
    {
      "cell_type": "code",
      "execution_count": null,
      "metadata": {
        "id": "EUvq2lEqQYXW"
      },
      "outputs": [],
      "source": [
        "CLASSES = 2\n",
        "input_shape = (im_size,im_size,3)"
      ]
    },
    {
      "cell_type": "markdown",
      "metadata": {
        "id": "tbKjUzu6Pq3T"
      },
      "source": [
        "#### Helper function for Multiple Metrics for Evaluation of our model"
      ]
    },
    {
      "cell_type": "code",
      "execution_count": null,
      "metadata": {
        "id": "xjbVANrDPeZ_"
      },
      "outputs": [],
      "source": [
        "def metrics():\n",
        "    return [\n",
        "        AUC(name=\"auc\"),\n",
        "        BinaryAccuracy(\"accuracy\"),\n",
        "        CohenKappa(name=\"kappa\", num_classes=2)\n",
        "    ]"
      ]
    },
    {
      "cell_type": "markdown",
      "metadata": {
        "id": "EbKAZvRgQYXW"
      },
      "source": [
        "#### Custom function for Plotting results for our model in various stages"
      ]
    },
    {
      "cell_type": "code",
      "execution_count": null,
      "metadata": {
        "id": "9BmZ8faoQYXW"
      },
      "outputs": [],
      "source": [
        "def plot_history(hs, epochs, metric):\n",
        "    if metric=='loss':\n",
        "                label_y = 'Loss'\n",
        "    elif metric=='accuracy':\n",
        "               label_y = 'Accuracy'\n",
        "    elif metric=='auc':\n",
        "               label_y = 'AUC'\n",
        "    else : label_y = 'kappa'\n",
        "    plt.rcParams['figure.figsize'] = [15, 8]\n",
        "    plt.rcParams['font.size'] = 16\n",
        "    plt.clf()\n",
        "    for label in hs:\n",
        "        plt.plot(hs[label].history[metric], label='{0:s} train {1:s}'.format(label, metric), linewidth=2)\n",
        "        plt.plot(hs[label].history['val_{0:s}'.format(metric)], label='{0:s} validation {1:s}'.format(label, metric), linewidth=2)\n",
        "    x_ticks = np.arange(0, epochs + 1, epochs / 10)\n",
        "    x_ticks [0] += 1\n",
        "    plt.xticks(x_ticks)\n",
        "    plt.ylim((0, 1))\n",
        "    plt.xlabel('Epochs')\n",
        "    plt.ylabel(label_y)\n",
        "    plt.legend()\n",
        "    plt.show()\n",
        "\n",
        "def print_results(model_name,epochs,hs,model_eval):\n",
        "    print(\"Train Loss     : {0:.5f}\".format(hs.history['loss'][-1]))\n",
        "    print(\"Validation Loss: {0:.5f}\".format(hs.history['val_loss'][-1]))\n",
        "    print(\"Test Loss      : {0:.5f}\".format(model_eval[0]))\n",
        "    print(\"---\")\n",
        "    print(\"Train AUC     : {0:.5f}\".format(hs.history['auc'][-1]))\n",
        "    print(\"Validation AUC: {0:.5f}\".format(hs.history['val_auc'][-1]))\n",
        "    print(\"Test AUC      : {0:.5f}\".format(model_eval[1]))\n",
        "    print(\"---\")\n",
        "    print(\"Train Accuracy     : {0:.5f}\".format(hs.history['accuracy'][-1]))\n",
        "    print(\"Validation Accuracy: {0:.5f}\".format(hs.history['val_accuracy'][-1]))\n",
        "    print(\"Test Accuracy      : {0:.5f}\".format(model_eval[2]))\n",
        "    print(\"---\")\n",
        "    print(\"Train Kappa     : {0:.5f}\".format(hs.history['kappa'][-1]))\n",
        "    print(\"Validation Kappa: {0:.5f}\".format(hs.history['kappa'][-1]))\n",
        "    print(\"Test Kappa      : {0:.5f}\".format(model_eval[3]))\n",
        "    # Plot train and validation error per epoch.\n",
        "    plot_history(hs={model_name: hs}, epochs=epochs, metric='loss')\n",
        "    plot_history(hs={model_name: hs}, epochs=epochs, metric='auc')\n",
        "    plot_history(hs={model_name: hs}, epochs=epochs, metric='accuracy')\n",
        "    plot_history(hs={model_name: hs}, epochs=epochs, metric='kappa')"
      ]
    },
    {
      "cell_type": "markdown",
      "metadata": {
        "id": "Z81mWSI1QYXW"
      },
      "source": [
        "#### Helper function to clear Memory Utilization enabling it to Work with GPU and standard RAM allowance in Kaggle."
      ]
    },
    {
      "cell_type": "code",
      "execution_count": null,
      "metadata": {
        "id": "uJX9VKpgQYXW"
      },
      "outputs": [],
      "source": [
        "def clean_up(model):\n",
        "    K.clear_session()\n",
        "    del model\n",
        "    gc.collect() #garbage collection\n",
        "    print(\"...Finished clean up...\")"
      ]
    },
    {
      "cell_type": "markdown",
      "metadata": {
        "id": "b8ZJ8WEw5Wud"
      },
      "source": [
        "## Training Models DCNN Models having Different Architectures"
      ]
    },
    {
      "cell_type": "markdown",
      "metadata": {
        "id": "QynsY9H95Wud"
      },
      "source": [
        "### Model 1 : Basic CNN Architecture"
      ]
    },
    {
      "cell_type": "code",
      "execution_count": null,
      "metadata": {
        "id": "WPTX9oe7QYXY"
      },
      "outputs": [],
      "source": [
        "def cnn_builder(\n",
        "        input_shape=(256, 256, 3),\n",
        "        starting_filters=32,\n",
        "        conv_layers=1,\n",
        "        conv_strides=(1, 1),\n",
        "        conv_kernel=(3, 3),\n",
        "        convs_per_layer=1,\n",
        "        batch_norm=False,\n",
        "        pooling=\"max\",\n",
        "        dropout=None,\n",
        "        pool_size=(2, 2),\n",
        "        pool_strides=(2, 2),\n",
        "        last_pooling=None,\n",
        "        spatial_dropout=None,\n",
        "        last_dropout=None,\n",
        "):\n",
        "    inputs = Input(\n",
        "        shape=input_shape,\n",
        "        name=\"input\"\n",
        "    )\n",
        "    x = inputs\n",
        "    for conv_level in range(conv_layers):\n",
        "        current_filters = starting_filters * (2 ** conv_level)\n",
        "        for conv_number in range(convs_per_layer):\n",
        "            x = Conv2D(\n",
        "                filters=current_filters,\n",
        "                kernel_size=conv_kernel,\n",
        "                strides=conv_strides,\n",
        "                name=f\"conv_{conv_level}_{conv_number}\",\n",
        "                padding='same'\n",
        "            )(x)\n",
        "            if batch_norm:\n",
        "                x = BatchNormalization(name=f\"bn_{conv_level}_{conv_number}\")(x)\n",
        "            x = Activation(\"relu\", name=f\"conv_{conv_level}_{conv_number}_relu\")(x)\n",
        "        if spatial_dropout:\n",
        "            x = SpatialDropout2D(spatial_dropout, name=f\"sp_dropout_{conv_level}\")(x)\n",
        "        if pooling == 'avg':\n",
        "            x = AvgPool2D(pool_size=pool_size,\n",
        "                          strides=pool_strides,\n",
        "                          name=f\"mp_{conv_level}\",\n",
        "                          padding='same')(x)\n",
        "        elif pooling == 'max':\n",
        "            x = MaxPool2D(pool_size=pool_size,\n",
        "                          strides=pool_strides,\n",
        "                          name=f\"mp_{conv_level}\",\n",
        "                          padding='same')(x)\n",
        "        if dropout:\n",
        "            x = Dropout(dropout, name=f\"dropout_{conv_level}\")(x)\n",
        "    if last_pooling == \"avg\":\n",
        "        x = GlobalAveragePooling2D(name=f\"lp_{last_pooling}\")(x)\n",
        "    elif last_pooling == \"max\":\n",
        "        x = GlobalMaxPooling2D(name=f\"lp_{last_pooling}\")(x)\n",
        "    x = Flatten(name=\"flatten\")(x)\n",
        "    if last_dropout:\n",
        "        x = Dropout(last_dropout, name=\"last_dp\")(x)\n",
        "    output = Dense(1, activation='sigmoid', name=\"output\")(x)\n",
        "    model = Model(inputs=inputs, outputs=output)\n",
        "    return model"
      ]
    },
    {
      "cell_type": "code",
      "execution_count": null,
      "metadata": {
        "colab": {
          "background_save": true,
          "base_uri": "https://localhost:8080/"
        },
        "id": "i12xjEZOQYXY",
        "outputId": "2cbcb46d-372c-4a40-8adb-ead2406203c0"
      },
      "outputs": [
        {
          "name": "stdout",
          "output_type": "stream",
          "text": [
            "Epoch 1/100\n",
            "461/461 [==============================] - 229s 463ms/step - loss: 0.6592 - auc: 0.5937 - accuracy: 0.6050 - kappa: 0.0603 - val_loss: 0.6509 - val_auc: 0.6293 - val_accuracy: 0.6080 - val_kappa: 0.1361\n",
            "Epoch 2/100\n",
            "461/461 [==============================] - 199s 432ms/step - loss: 0.6416 - auc: 0.6431 - accuracy: 0.6262 - kappa: 0.1540 - val_loss: 0.6395 - val_auc: 0.6584 - val_accuracy: 0.6235 - val_kappa: 0.2116\n",
            "Epoch 3/100\n",
            "461/461 [==============================] - 194s 421ms/step - loss: 0.6138 - auc: 0.6899 - accuracy: 0.6544 - kappa: 0.2385 - val_loss: 0.6160 - val_auc: 0.6983 - val_accuracy: 0.6581 - val_kappa: 0.2351\n",
            "Epoch 4/100\n",
            "461/461 [==============================] - 193s 419ms/step - loss: 0.5843 - auc: 0.7320 - accuracy: 0.6850 - kappa: 0.3102 - val_loss: 0.6110 - val_auc: 0.7117 - val_accuracy: 0.6699 - val_kappa: 0.2992\n",
            "Epoch 5/100\n",
            "245/461 [==============>...............] - ETA: 1:12 - loss: 0.5480 - auc: 0.7748 - accuracy: 0.7157 - kappa: 0.3825"
          ]
        }
      ],
      "source": [
        "epochs = 100\n",
        "cnn_model = cnn_builder(starting_filters=32,conv_layers=4,convs_per_layer=1,pooling='max')\n",
        "cnn_model.compile(optimizer=Adam(), loss= BinaryCrossentropy(from_logits=False),metrics=[metrics()])\n",
        "early_stop = EarlyStopping(monitor=\"val_loss\",mode=\"min\", patience=10,restore_best_weights=True)\n",
        "hs = cnn_model.fit(train_generator,validation_data = valid_generator, epochs = epochs,callbacks=[early_stop])\n",
        "print('Training.')\n",
        "print('------------------')\n",
        "cnn_model.summary()\n",
        "filename = '/kaggle/working/model_1.h5'\n",
        "cnn_model.save(filename)\n",
        "print('>Saved %s' % filename)\n",
        "cnn_model_eval = cnn_model.evaluate(test_generator)\n",
        "clean_up(model=cnn_model)\n",
        "print_results(model_name='CNN',epochs= epochs,hs = hs,model_eval = cnn_model_eval)"
      ]
    },
    {
      "cell_type": "markdown",
      "metadata": {
        "id": "bSyR3G0zTlUE"
      },
      "source": [
        "### Model 2 : Basic CNN Architecture 2"
      ]
    },
    {
      "cell_type": "code",
      "execution_count": null,
      "metadata": {
        "id": "A0Ys-ptb17w8"
      },
      "outputs": [],
      "source": [
        "early_stop = EarlyStopping(monitor=\"val_loss\",mode=\"min\", patience=5, restore_best_weights=True)\n",
        "epochs = 30\n",
        "cnn_model = cnn_builder(starting_filters=16,conv_layers=4,convs_per_layer=2,pooling='max')\n",
        "cnn_model.compile(optimizer=Adam(), loss= BinaryCrossentropy(from_logits=False),metrics=[metrics()])\n",
        "hs = cnn_model.fit(train_generator,validation_data = valid_generator,epochs = epochs,callbacks=[early_stop])\n",
        "print('Training.')\n",
        "print('------------------')\n",
        "cnn_model.summary()\n",
        "filename = '/kaggle/working/model_2.h5'\n",
        "cnn_model.save(filename)\n",
        "print('>Saved %s' % filename)\n",
        "cnn_model_eval = cnn_model.evaluate(test_generator)\n",
        "clean_up(model=cnn_model)\n",
        "print_results(model_name='CNN',epochs= epochs,hs = hs,model_eval = cnn_model_eval)"
      ]
    },
    {
      "cell_type": "markdown",
      "metadata": {
        "id": "bvRjFecaT32c"
      },
      "source": [
        "### Model 3 : Basic CNN Architecture 3 (with Batch Normalization and Dropout)"
      ]
    },
    {
      "cell_type": "code",
      "execution_count": null,
      "metadata": {
        "id": "Dape3n4uQYXb"
      },
      "outputs": [],
      "source": [
        "epochs = 40\n",
        "cnn_model = cnn_builder(starting_filters=32,conv_layers=4,convs_per_layer=1,pooling='avg',batch_norm=True,dropout=0.2,pool_strides=(2, 2))\n",
        "cnn_model.compile(optimizer=Adam(),loss= BinaryCrossentropy(from_logits=False),metrics=[metrics()])\n",
        "hs = cnn_model.fit(train_generator,validation_data = valid_generator, epochs = epochs,callbacks=[early_stop])\n",
        "print('Finished training.')\n",
        "print('------------------')\n",
        "cnn_model.summary()\n",
        "filename = '/kaggle/working/model_3.h5'\n",
        "cnn_model.save(filename)\n",
        "print('>Saved %s' % filename)\n",
        "cnn_model_eval = cnn_model.evaluate(test_generator)\n",
        "clean_up(model=cnn_model)\n",
        "print_results(model_name='CNN',epochs= epochs,hs = hs,model_eval = cnn_model_eval)"
      ]
    },
    {
      "cell_type": "markdown",
      "metadata": {
        "id": "bi6cd5ZEUnNd"
      },
      "source": [
        "### Model 4 : Basic CNN Architecture 4 ( with dropout and AdaBound optimizer)"
      ]
    },
    {
      "cell_type": "code",
      "execution_count": null,
      "metadata": {
        "id": "iKjxXaKXUmZN"
      },
      "outputs": [],
      "source": [
        "epochs = 50\n",
        "early_stop = EarlyStopping(monitor=\"val_loss\", mode=\"min\", patience=10, restore_best_weights=True)\n",
        "cnn_model = cnn_builder(starting_filters=32,\n",
        "conv_layers=4,convs_per_layer=1,pooling='avg',batch_norm=True,dropout=0.2,pool_strides=(2, 2))\n",
        "cnn_model.compile(optimizer=AdaBound(lr=1e-3, final_lr=0.1), loss= BinaryCrossentropy(from_logits=False),metrics=[metrics()])\n",
        "hs = cnn_model.fit(train_generator,validation_data = valid_generator, epochs = epochs,callbacks=[early_stop])\n",
        "print('Finished training.')\n",
        "print('------------------')\n",
        "cnn_model.summary()\n",
        "filename = '/kaggle/working/model_4.h5'\n",
        "cnn_model.save(filename)\n",
        "print('>Saved %s' % filename)\n",
        "cnn_model_eval = cnn_model.evaluate(test_generator)\n",
        "clean_up(model=cnn_model)\n",
        "print_results(model_name='CNN',epochs= epochs,hs = hs,model_eval = cnn_model_eval)"
      ]
    },
    {
      "cell_type": "markdown",
      "metadata": {
        "id": "YMes0dlsQYXb"
      },
      "source": [
        "### Model 5 : VGG16 Architecture"
      ]
    },
    {
      "cell_type": "code",
      "execution_count": null,
      "metadata": {
        "id": "FpsO3ZmlQYXb"
      },
      "outputs": [],
      "source": [
        "def VGGNET16_builder(\n",
        "        pooling=\"max\",\n",
        "        shape=(256, 256, 3),\n",
        "        trainable_layers_after=None\n",
        "    ):\n",
        "    VGGNET16 = VGG16(\n",
        "        include_top=False,\n",
        "        weights='imagenet',\n",
        "        input_shape=shape,\n",
        "        pooling=pooling\n",
        "    )\n",
        "    if trainable_layers_after:\n",
        "        for layer in VGGNET16.layers[:trainable_layers_after]:\n",
        "            layer.trainable = False\n",
        "    else:\n",
        "        VGGNET16.trainable = False\n",
        "    prediction_layer = Dense(1, activation=\"sigmoid\",name=\"VGGNET_output_sigmoid\")\n",
        "    model = Sequential(\n",
        "        layers=[\n",
        "            VGGNET16,\n",
        "            prediction_layer\n",
        "        ],\n",
        "        name=\"VGGNET16\"\n",
        "    )\n",
        "    return model"
      ]
    },
    {
      "cell_type": "code",
      "execution_count": null,
      "metadata": {
        "id": "JG13TO2dsVKk"
      },
      "outputs": [],
      "source": [
        "epochs = 10\n",
        "early_stop = EarlyStopping(monitor=\"kappa\", mode=\"min\", patience=3, restore_best_weights=True)\n",
        "VGGNET_model16 = VGGNET16_builder(pooling='avg')\n",
        "VGGNET_model16.compile(optimizer=Adam(),loss= BinaryCrossentropy(from_logits=False),metrics=[metrics()])\n",
        "hs = VGGNET_model16.fit(train_generator,validation_data = valid_generator, epochs = epochs,callbacks=[early_stop])\n",
        "print('Finished training.')\n",
        "print('------------------')\n",
        "VGGNET_model16.summary()\n",
        "filename = '/kaggle/working/model_VGGNET16.h5'\n",
        "VGGNET_model16.save(filename)\n",
        "print('>Saved %s' % filename)\n",
        "VGGNET_model_eval = VGGNET_model16.evaluate(test_generator)\n",
        "clean_up(model=VGGNET_model16)\n",
        "print_results(model_name='VGGNET_model16',epochs= epochs,hs = hs,model_eval = VGGNET_model_eval)"
      ]
    },
    {
      "cell_type": "markdown",
      "metadata": {
        "id": "lcKVxmCIQYXb"
      },
      "source": [
        "### Model 6 : VGG19 Architecture"
      ]
    },
    {
      "cell_type": "code",
      "execution_count": null,
      "metadata": {
        "id": "svi8jHm65Wue"
      },
      "outputs": [],
      "source": [
        "def VGGNET19_builder(\n",
        "        pooling=\"max\",\n",
        "        shape=(256, 256, 3),\n",
        "        trainable_layers_after=None\n",
        "    ):\n",
        "    VGGNET19 = VGG19(include_top=False,weights='imagenet',input_shape=shape,pooling=pooling)\n",
        "    if trainable_layers_after:\n",
        "        for layer in VGGNET19.layers[:trainable_layers_after]:\n",
        "            layer.trainable = False\n",
        "    else:\n",
        "        VGGNET19.trainable = False\n",
        "    prediction_layer = Dense(1, activation=\"sigmoid\",name=\"VGGNET_output_sigmoid\")\n",
        "    model = Sequential(\n",
        "        layers=[\n",
        "            VGGNET19,\n",
        "            prediction_layer\n",
        "        ],\n",
        "        name=\"VGGNET19\"\n",
        "    )\n",
        "    return model"
      ]
    },
    {
      "cell_type": "code",
      "execution_count": null,
      "metadata": {
        "id": "USdGEl3M5Wue"
      },
      "outputs": [],
      "source": [
        "epochs = 50\n",
        "early_stop = EarlyStopping(monitor=\"kappa\",mode=\"min\", patience=3, restore_best_weights=True)\n",
        "VGGNET_model19 = VGGNET19_builder(pooling='avg')\n",
        "VGGNET_model19.compile(optimizer=Adam(), loss= BinaryCrossentropy(from_logits=False),metrics=[metrics()])\n",
        "hs = VGGNET_model19.fit(train_generator,validation_data = valid_generator, epochs = epochs,callbacks=[early_stop])\n",
        "print('Finished training.')\n",
        "print('------------------')\n",
        "VGGNET_model19.summary()\n",
        "filename = '/kaggle/working/model_VGGNET19.h5'\n",
        "VGGNET_model19.save(filename)\n",
        "print('>Saved %s' % filename)\n",
        "VGGNET_model_eval = VGGNET_model19.evaluate(test_generator)\n",
        "clean_up(model=VGGNET_model19)\n",
        "print_results(model_name='VGGNET_model',epochs= epochs,hs = hs,model_eval = VGGNET_model_eval)"
      ]
    },
    {
      "cell_type": "markdown",
      "metadata": {
        "id": "hkcfZ_qk5Wue"
      },
      "source": [
        "### Model 7 : RESNET152v2 Architecture"
      ]
    },
    {
      "cell_type": "code",
      "execution_count": null,
      "metadata": {
        "id": "VZJtXfC15Wuf"
      },
      "outputs": [],
      "source": [
        "def resnet_builder(\n",
        "        pooling=\"max\",\n",
        "        shape=(256, 256, 3),\n",
        "        trainable_layers_after=None\n",
        "    ):\n",
        "    resNet = ResNet152V2(\n",
        "        include_top=False,\n",
        "        weights='imagenet',\n",
        "        input_shape=shape,\n",
        "        pooling=pooling\n",
        "    )\n",
        "    if trainable_layers_after:\n",
        "        for layer in resNet.layers[:trainable_layers_after]:\n",
        "            layer.trainable = False\n",
        "    else:\n",
        "        resNet.trainable = False\n",
        "    prediction_layer = Dense(1, activation=\"sigmoid\",\n",
        "                                name=\"resnet_output_sigmoid\")\n",
        "    model = Sequential(\n",
        "        layers=[\n",
        "            resNet,\n",
        "            prediction_layer\n",
        "        ],\n",
        "        name=\"resnet\"\n",
        "    )\n",
        "    return model"
      ]
    },
    {
      "cell_type": "code",
      "execution_count": null,
      "metadata": {
        "id": "PIMKJhCY5Wuf"
      },
      "outputs": [],
      "source": [
        "epochs = 50\n",
        "early_stop = EarlyStopping(monitor=\"kappa\",mode=\"min\", patience=3, restore_best_weights=True)\n",
        "resnet_model = resnet_builder(pooling='avg')\n",
        "resnet_model.compile(optimizer=Adam(), loss= BinaryCrossentropy(from_logits=False),metrics=[metrics()])\n",
        "hs = resnet_model.fit(train_generator,validation_data = valid_generator, epochs = epochs,callbacks=[early_stop])\n",
        "print('Finished training.')\n",
        "print('------------------')\n",
        "resnet_model.summary()\n",
        "filename = '/kaggle/working/model_5.h5'\n",
        "resnet_model.save(filename)\n",
        "print('>Saved %s' % filename)\n",
        "# Evaluate on test data and show all the results.\n",
        "resnet_model_eval = resnet_model.evaluate(test_generator)\n",
        "clean_up(model=resnet_model)\n",
        "print_results(model_name='ResNet',epochs= epochs,hs = hs, model_eval = resnet_model_eval)"
      ]
    },
    {
      "cell_type": "markdown",
      "metadata": {
        "id": "2GvPiI_O5Wuf"
      },
      "source": [
        "### Model 8 : RESNET50 Architecture"
      ]
    },
    {
      "cell_type": "code",
      "execution_count": null,
      "metadata": {
        "id": "eypRqcs75Wuf"
      },
      "outputs": [],
      "source": [
        "def RESNET50_builder(pooling=\"max\", shape=(256, 256, 3), trainable_layers_after=None):\n",
        "    RESNET = ResNet50(include_top=False,weights='imagenet',input_shape=shape,pooling=pooling)\n",
        "    if trainable_layers_after:\n",
        "        for layer in RESNET.layers[:trainable_layers_after]:\n",
        "            layer.trainable = False\n",
        "    else:\n",
        "        RESNET.trainable = False\n",
        "    prediction_layer = Dense(1, activation=\"sigmoid\",name=\"VGGNET_output_sigmoid\")\n",
        "    model = Sequential(layers=[RESNET,prediction_layer],name=\"VGGNET\")\n",
        "    return model"
      ]
    },
    {
      "cell_type": "code",
      "execution_count": null,
      "metadata": {
        "id": "-f5FHREu5Wuf"
      },
      "outputs": [],
      "source": [
        "epochs = 50\n",
        "early_stop = EarlyStopping(monitor=\"kappa\",mode=\"min\",patience=3,restore_best_weights=True)\n",
        "RESNET50_model = RESNET50_builder(pooling='avg')\n",
        "RESNET50_model.compile(optimizer=Adam(), loss= BinaryCrossentropy(from_logits=False),metrics=[metrics()])\n",
        "hs = RESNET50_model.fit(train_generator,validation_data = valid_generator, epochs = epochs,callbacks=[early_stop])\n",
        "print('Finished training.')\n",
        "print('------------------')\n",
        "RESNET50_model.summary()\n",
        "filename = '/kaggle/working/model_RESNET50.h5'\n",
        "RESNET50_model.save(filename)\n",
        "print('>Saved %s' % filename)\n",
        "VGGNET_model_eval = RESNET50_model.evaluate(test_generator)\n",
        "clean_up(model=RESNET50_model)\n",
        "print_results(model_name='RESNET50_model',epochs= epochs,hs = hs,model_eval = VGGNET_model_eval)"
      ]
    },
    {
      "cell_type": "markdown",
      "metadata": {
        "id": "5H0094kz5Wuf"
      },
      "source": [
        "### Model 9 : Densenet201 Architecture"
      ]
    },
    {
      "cell_type": "code",
      "execution_count": null,
      "metadata": {
        "id": "LAiQyN3oQYXb"
      },
      "outputs": [],
      "source": [
        "def densenet_builder(\n",
        "        pooling=\"avg\",\n",
        "        shape=(256, 256, 3),\n",
        "        trainable_layers_after=None,\n",
        "        mlp=[],\n",
        "        mlp_dropout=0.25,\n",
        "        nameNN=\"\",\n",
        "):\n",
        "    denseNet = DenseNet201(\n",
        "        include_top=False,\n",
        "        weights='imagenet',\n",
        "        input_shape=shape,\n",
        "        pooling=pooling\n",
        "    )\n",
        "    if trainable_layers_after:\n",
        "        for layer in denseNet.layers[:trainable_layers_after]:\n",
        "            layer.trainable = False\n",
        "    else:\n",
        "        denseNet.trainable = False\n",
        "    output = denseNet.output\n",
        "    for index, mlp_neurons in enumerate(mlp):\n",
        "        output = Dense(mlp_neurons, activation=\"relu\", name=f\"m.{index}.{mlp_neurons}\")(output)\n",
        "        if mlp_dropout:\n",
        "            output = Dropout(mlp_dropout, name=f\"mdp.{index}.{mlp_neurons}\")(output)\n",
        "    output = Dense(1, activation=\"sigmoid\", name=\"densenet_output_sigmoid\")(output)\n",
        "    model = Model(denseNet.input, output, name='densenet'+nameNN)\n",
        "    return model"
      ]
    },
    {
      "cell_type": "code",
      "execution_count": null,
      "metadata": {
        "id": "u0kyGkb4x1-q"
      },
      "outputs": [],
      "source": [
        "epochs = 50\n",
        "early_stop = EarlyStopping(monitor=\"kappa\", mode=\"min\", patience=10,restore_best_weights=True)\n",
        "densenet_model = densenet_builder(pooling='max', trainable_layers_after=600)\n",
        "densenet_model.compile(optimizer=Adam(),\n",
        "                  loss= BinaryCrossentropy(from_logits=False),\n",
        "                  metrics=[metrics()])\n",
        "hs = densenet_model.fit(\n",
        "        train_generator,\n",
        "        validation_data = valid_generator,\n",
        "        epochs = epochs,\n",
        "        callbacks=[early_stop]\n",
        "    )\n",
        "print('Finished training.')\n",
        "print('------------------')\n",
        "densenet_model.summary()\n",
        "filename = '/kaggle/working/model_6.h5'\n",
        "densenet_model.save(filename)\n",
        "print('>Saved %s' % filename)\n",
        "densenet_model_eval = densenet_model.evaluate(test_generator)\n",
        "clean_up(model=densenet_model)\n",
        "print_results(model_name='DenseNet',epochs= epochs,hs = hs,model_eval = densenet_model_eval)"
      ]
    },
    {
      "cell_type": "markdown",
      "metadata": {
        "id": "mH-rNwp_2Nfo"
      },
      "source": [
        "### Model 10 : Densenet201 Architecture (With Avg Pooling and Mlp)"
      ]
    },
    {
      "cell_type": "code",
      "execution_count": null,
      "metadata": {
        "id": "OVfU6EZi2Ra4"
      },
      "outputs": [],
      "source": [
        "epochs = 30\n",
        "early_stop = EarlyStopping(monitor=\"kappa\",\n",
        "                           mode=\"min\",\n",
        "                           patience=10,\n",
        "                           restore_best_weights=True)\n",
        "densenet_model = densenet_builder(\n",
        "                            pooling='avg',\n",
        "                            trainable_layers_after=600,\n",
        "                            mlp=[512, 512],\n",
        "                            mlp_dropout=0.25)\n",
        "densenet_model.compile(optimizer=Adam(),\n",
        "                  loss= BinaryCrossentropy(from_logits=False),\n",
        "                  metrics=[metrics()])\n",
        "hs = densenet_model.fit(\n",
        "        train_generator,\n",
        "        validation_data = valid_generator,\n",
        "        epochs = epochs,\n",
        "        callbacks=[early_stop]\n",
        "    )\n",
        "print('Finished training.')\n",
        "print('------------------')\n",
        "densenet_model.summary()\n",
        "filename = '/kaggle/working/model_7.h5'\n",
        "densenet_model.save(filename)\n",
        "print('>Saved %s' % filename)\n",
        "densenet_model_eval = densenet_model.evaluate(test_generator)\n",
        "clean_up(model=densenet_model)\n",
        "print_results(model_name='DenseNet',epochs= epochs,hs = hs,model_eval = densenet_model_eval)"
      ]
    },
    {
      "cell_type": "markdown",
      "metadata": {
        "id": "UBxi7ZsmeZmC"
      },
      "source": [
        "### Model 11 : Densenet201 Architecture (With Max Pooling and Mlp)"
      ]
    },
    {
      "cell_type": "code",
      "execution_count": null,
      "metadata": {
        "id": "YsIiRt2Dehf8"
      },
      "outputs": [],
      "source": [
        "epochs = 30\n",
        "early_stop = EarlyStopping(monitor=\"kappa\", mode=\"min\", patience=5, restore_best_weights=True)\n",
        "densenet_model = densenet_builder(pooling='max',trainable_layers_after=600,mlp=[512, 512],mlp_dropout=0.2)\n",
        "densenet_model.compile(optimizer=Adam(),\n",
        "                  loss= BinaryCrossentropy(from_logits=False),\n",
        "                  metrics=[metrics()])\n",
        "hs = densenet_model.fit(\n",
        "        train_generator,\n",
        "        validation_data = valid_generator,\n",
        "        epochs = epochs,\n",
        "        callbacks=[early_stop]\n",
        "    )\n",
        "print('Finished training.')\n",
        "print('------------------')\n",
        "densenet_model.summary()\n",
        "filename = '/kaggle/working/model_8.h5'\n",
        "densenet_model.save(filename)\n",
        "print('>Saved %s' % filename)\n",
        "densenet_model_eval = densenet_model.evaluate(test_generator)\n",
        "clean_up(model=densenet_model)\n",
        "print_results(model_name='DenseNet',epochs= epochs,hs = hs,model_eval = densenet_model_eval)"
      ]
    },
    {
      "cell_type": "markdown",
      "metadata": {
        "id": "L2mCXdYt4gFZ"
      },
      "source": [
        "### Model 12 : Densenet201 Architecture (With Avg Pooling, Mlp and Trained from scratch)"
      ]
    },
    {
      "cell_type": "code",
      "execution_count": null,
      "metadata": {
        "id": "CgqregSa4taA"
      },
      "outputs": [],
      "source": [
        "epochs = 30\n",
        "early_stop = EarlyStopping(monitor=\"kappa\",#\"val_loss\",\n",
        "                           mode=\"min\",\n",
        "                           patience=5,\n",
        "                           restore_best_weights=True)\n",
        "densenet_model = densenet_builder(\n",
        "                            pooling='avg',\n",
        "                            trainable_layers_after=-10,\n",
        "                            mlp=[600],\n",
        "                            mlp_dropout=0.2,\n",
        "                            nameNN='best')\n",
        "densenet_model.compile(optimizer=Adam(),loss= BinaryCrossentropy(from_logits=False),metrics=[metrics()])\n",
        "hs = densenet_model.fit(\n",
        "        train_generator,\n",
        "        validation_data = valid_generator,\n",
        "        epochs = epochs,\n",
        "        callbacks=[early_stop]\n",
        "    )\n",
        "print('Finished training.')\n",
        "print('------------------')\n",
        "densenet_model.summary()\n",
        "filename = '/kaggle/working/model_9.h5'\n",
        "densenet_model.save(filename)\n",
        "print('>Saved %s' % filename)\n",
        "densenet_model_eval = densenet_model.evaluate(test_generator)\n",
        "clean_up(model=densenet_model)\n",
        "print_results(model_name='DenseNet',\n",
        "                  epochs= epochs,\n",
        "                  hs = hs,\n",
        "                  model_eval = densenet_model_eval)"
      ]
    },
    {
      "cell_type": "markdown",
      "metadata": {
        "id": "r1Bg5WXSoyrO"
      },
      "source": [
        "### Model 13 : Densenet201 Architecture (With Augmentated Dataset)"
      ]
    },
    {
      "cell_type": "code",
      "execution_count": null,
      "metadata": {
        "id": "Wv1Cdo62sBHA"
      },
      "outputs": [],
      "source": [
        "image_generator_settings = dict( rescale=1. / 255,rotation_range=30,width_shift_range=0.2,height_shift_range=0.2,zoom_range=0.3,horizontal_flip=True)\n",
        "image_generator = ImageDataGenerator(**image_generator_settings)"
      ]
    },
    {
      "cell_type": "code",
      "execution_count": null,
      "metadata": {
        "id": "p-ZOduDAsJ9p"
      },
      "outputs": [],
      "source": [
        "train_generator = image_generator.flow_from_dataframe(\n",
        "    dataframe = train,\n",
        "    directory = None,\n",
        "    x_col = 'image_path',\n",
        "    y_col = 'label_index',\n",
        "    batch_size = 64,\n",
        "    shuffle = True,\n",
        "    class_mode = 'raw', #\"binary\"\n",
        "    target_size = (im_size, im_size),\n",
        "    color_mode = 'rgb',#'grayscale'\n",
        "    interpolation='nearest', #default\n",
        "    validate_filenames=False,\n",
        "    seed=seed)"
      ]
    },
    {
      "cell_type": "code",
      "execution_count": null,
      "metadata": {
        "id": "5STDTTUQowaO"
      },
      "outputs": [],
      "source": [
        "def densenet_builder_aug(\n",
        "        pooling=\"avg\",\n",
        "        shape=(256, 256, 3),\n",
        "        trainable_layers_after=None,\n",
        "        mlp=[],\n",
        "        mlp_dropout=0.2\n",
        "):\n",
        "\n",
        "    denseNet = DenseNet201(\n",
        "        include_top=False,\n",
        "        weights='imagenet',\n",
        "        input_shape=shape,\n",
        "        pooling=pooling\n",
        "    )\n",
        "    if trainable_layers_after:\n",
        "        for layer in denseNet.layers[:trainable_layers_after]:\n",
        "            layer.trainable = False\n",
        "    else:\n",
        "        denseNet.trainable = False\n",
        "    output = denseNet.output\n",
        "    for index, mlp_neurons in enumerate(mlp):\n",
        "        output = Dense(mlp_neurons, activation=\"relu\", name=f\"m.{index}.{mlp_neurons}\")(output)\n",
        "        if mlp_dropout:\n",
        "            output = Dropout(mlp_dropout, name=f\"mdp.{index}.{mlp_neurons}\")(output)\n",
        "    output = Dense(1, activation=\"sigmoid\", name=\"densenet_output_sigmoid\")(output)\n",
        "    model = Model(denseNet.input, output, name='densenet_aug')\n",
        "    return model"
      ]
    },
    {
      "cell_type": "code",
      "execution_count": null,
      "metadata": {
        "id": "whFabRNIrutQ"
      },
      "outputs": [],
      "source": [
        "epochs = 15\n",
        "early_stop = EarlyStopping(monitor=\"kappa\",\n",
        "                           mode=\"min\",\n",
        "                           patience=3,\n",
        "                           restore_best_weights=True)\n",
        "densenet_model = densenet_builder_aug(\n",
        "                            pooling='avg',\n",
        "                            trainable_layers_after=606,\n",
        "                            mlp=[512, 512],\n",
        "                            mlp_dropout=0.2)\n",
        "densenet_model.compile(optimizer=Adam(),\n",
        "                  loss= BinaryCrossentropy(from_logits=False),\n",
        "                  metrics=[metrics()])\n",
        "hs = densenet_model.fit(\n",
        "        train_generator,\n",
        "        validation_data = valid_generator,\n",
        "        epochs = epochs,\n",
        "        callbacks=[early_stop]\n",
        "    )\n",
        "print('Finished training.')\n",
        "print('------------------')\n",
        "densenet_model.summary()\n",
        "filename = '/kaggle/working/model_10.h5'\n",
        "densenet_model.save(filename)\n",
        "print('>Saved %s' % filename)\n",
        "densenet_model_eval = densenet_model.evaluate(test_generator)\n",
        "clean_up(model=densenet_model)\n",
        "print_results(model_name='DenseNet',epochs= epochs,hs = hs,model_eval = densenet_model_eval)"
      ]
    }
  ],
  "metadata": {
    "accelerator": "GPU",
    "colab": {
      "gpuType": "T4",
      "provenance": [],
      "include_colab_link": true
    },
    "kernelspec": {
      "display_name": "Python 3",
      "name": "python3"
    },
    "language_info": {
      "codemirror_mode": {
        "name": "ipython",
        "version": 3
      },
      "file_extension": ".py",
      "mimetype": "text/x-python",
      "name": "python",
      "nbconvert_exporter": "python",
      "pygments_lexer": "ipython3",
      "version": "3.6.4"
    }
  },
  "nbformat": 4,
  "nbformat_minor": 0
}